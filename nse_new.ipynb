{
 "cells": [
  {
   "cell_type": "code",
   "execution_count": 7,
   "metadata": {},
   "outputs": [
    {
     "name": "stdout",
     "output_type": "stream",
     "text": [
      "Requirement already satisfied: nsetools in c:\\users\\anikekum\\anaconda3\\lib\\site-packages (1.0.11)\n",
      "Requirement already satisfied: dateutils in c:\\users\\anikekum\\anaconda3\\lib\\site-packages (from nsetools) (0.6.11)\n",
      "Requirement already satisfied: six in c:\\users\\anikekum\\anaconda3\\lib\\site-packages (from nsetools) (1.14.0)\n",
      "Requirement already satisfied: argparse in c:\\users\\anikekum\\anaconda3\\lib\\site-packages (from dateutils->nsetools) (1.4.0)\n",
      "Requirement already satisfied: pytz in c:\\users\\anikekum\\anaconda3\\lib\\site-packages (from dateutils->nsetools) (2019.3)\n",
      "Requirement already satisfied: python-dateutil in c:\\users\\anikekum\\anaconda3\\lib\\site-packages (from dateutils->nsetools) (2.8.1)\n",
      "Note: you may need to restart the kernel to use updated packages.\n"
     ]
    }
   ],
   "source": [
    "pip install nsetools"
   ]
  },
  {
   "cell_type": "code",
   "execution_count": 8,
   "metadata": {},
   "outputs": [
    {
     "name": "stdout",
     "output_type": "stream",
     "text": [
      "Requirement already up-to-date: nsetools in c:\\users\\anikekum\\anaconda3\\lib\\site-packages (1.0.11)\n",
      "Requirement already satisfied, skipping upgrade: dateutils in c:\\users\\anikekum\\anaconda3\\lib\\site-packages (from nsetools) (0.6.11)\n",
      "Requirement already satisfied, skipping upgrade: six in c:\\users\\anikekum\\anaconda3\\lib\\site-packages (from nsetools) (1.14.0)\n",
      "Requirement already satisfied, skipping upgrade: python-dateutil in c:\\users\\anikekum\\anaconda3\\lib\\site-packages (from dateutils->nsetools) (2.8.1)\n",
      "Requirement already satisfied, skipping upgrade: argparse in c:\\users\\anikekum\\anaconda3\\lib\\site-packages (from dateutils->nsetools) (1.4.0)\n",
      "Requirement already satisfied, skipping upgrade: pytz in c:\\users\\anikekum\\anaconda3\\lib\\site-packages (from dateutils->nsetools) (2019.3)\n",
      "Note: you may need to restart the kernel to use updated packages.\n"
     ]
    }
   ],
   "source": [
    "pip install nsetools --upgrade"
   ]
  },
  {
   "cell_type": "code",
   "execution_count": 10,
   "metadata": {},
   "outputs": [
    {
     "name": "stdout",
     "output_type": "stream",
     "text": [
      "Driver Class for National Stock Exchange (NSE)\n"
     ]
    }
   ],
   "source": [
    "from nsetools import Nse\n",
    "nse = Nse()\n",
    "print (nse)"
   ]
  },
  {
   "cell_type": "code",
   "execution_count": 11,
   "metadata": {},
   "outputs": [
    {
     "name": "stdout",
     "output_type": "stream",
     "text": [
      "('{\"pricebandupper\": 1029.1, \"symbol\": \"INFY\", \"applicableMargin\": 18.76, '\n",
      " '\"bcEndDate\": null, \"totalSellQuantity\": null, \"adhocMargin\": null, '\n",
      " '\"companyName\": \"Infosys Limited\", \"marketType\": \"N\", \"exDate\": \"29-MAY-20\", '\n",
      " '\"bcStartDate\": null, \"css_status_desc\": \"Listed\", \"dayHigh\": 929.5, '\n",
      " '\"basePrice\": 935.55, \"securityVar\": 15.26, \"pricebandlower\": 842.0, '\n",
      " '\"sellQuantity5\": null, \"sellQuantity4\": null, \"sellQuantity3\": null, '\n",
      " '\"cm_adj_high_dt\": \"31-JUL-20\", \"sellQuantity2\": null, \"dayLow\": 914.45, '\n",
      " '\"sellQuantity1\": null, \"quantityTraded\": 8650414.0, \"pChange\": \"-1.61\", '\n",
      " '\"totalTradedValue\": 79740.38, \"deliveryToTradedQuantity\": 49.04, '\n",
      " '\"totalBuyQuantity\": 286.0, \"averagePrice\": 921.81, \"indexVar\": null, '\n",
      " '\"cm_ffm\": 336669.27, \"purpose\": \"DIVIDEND - RS 9.50 PER SHARE\", \"buyPrice2\": '\n",
      " 'null, \"secDate\": \"04-Sep-2020 00:00:00\", \"buyPrice1\": 919.15, \"high52\": '\n",
      " '986.45, \"previousClose\": 935.55, \"ndEndDate\": null, \"low52\": 509.25, '\n",
      " '\"buyPrice4\": null, \"buyPrice3\": null, \"recordDate\": \"01-JUN-20\", '\n",
      " '\"deliveryQuantity\": 4241995.0, \"buyPrice5\": null, \"priceBand\": \"No Band\", '\n",
      " '\"extremeLossMargin\": 3.5, \"cm_adj_low_dt\": \"19-MAR-20\", \"varMargin\": 15.26, '\n",
      " '\"sellPrice1\": null, \"sellPrice2\": null, \"totalTradedVolume\": 8650414.0, '\n",
      " '\"sellPrice3\": null, \"sellPrice4\": null, \"sellPrice5\": null, \"change\": '\n",
      " '\"-15.05\", \"surv_indicator\": null, \"ndStartDate\": null, \"buyQuantity4\": null, '\n",
      " '\"isExDateFlag\": false, \"buyQuantity3\": null, \"buyQuantity2\": null, '\n",
      " '\"buyQuantity1\": 286.0, \"series\": \"EQ\", \"faceValue\": 5.0, \"buyQuantity5\": '\n",
      " 'null, \"closePrice\": 919.15, \"open\": 915.0, \"isinCode\": \"INE009A01021\", '\n",
      " '\"lastPrice\": 920.5}')\n"
     ]
    }
   ],
   "source": [
    "q = nse.get_quote('infy',as_json=True) # it's ok to use both upper or lower case for codes.\n",
    "from pprint import pprint # just for neatness of display\n",
    "pprint(q)"
   ]
  },
  {
   "cell_type": "code",
   "execution_count": 12,
   "metadata": {},
   "outputs": [
    {
     "name": "stdout",
     "output_type": "stream",
     "text": [
      "{'adhocMargin': None,\n",
      " 'applicableMargin': 18.76,\n",
      " 'averagePrice': 921.81,\n",
      " 'basePrice': 935.55,\n",
      " 'bcEndDate': None,\n",
      " 'bcStartDate': None,\n",
      " 'buyPrice1': 919.15,\n",
      " 'buyPrice2': None,\n",
      " 'buyPrice3': None,\n",
      " 'buyPrice4': None,\n",
      " 'buyPrice5': None,\n",
      " 'buyQuantity1': 286.0,\n",
      " 'buyQuantity2': None,\n",
      " 'buyQuantity3': None,\n",
      " 'buyQuantity4': None,\n",
      " 'buyQuantity5': None,\n",
      " 'change': '-15.05',\n",
      " 'closePrice': 919.15,\n",
      " 'cm_adj_high_dt': '31-JUL-20',\n",
      " 'cm_adj_low_dt': '19-MAR-20',\n",
      " 'cm_ffm': 336669.27,\n",
      " 'companyName': 'Infosys Limited',\n",
      " 'css_status_desc': 'Listed',\n",
      " 'dayHigh': 929.5,\n",
      " 'dayLow': 914.45,\n",
      " 'deliveryQuantity': 4241995.0,\n",
      " 'deliveryToTradedQuantity': 49.04,\n",
      " 'exDate': '29-MAY-20',\n",
      " 'extremeLossMargin': 3.5,\n",
      " 'faceValue': 5.0,\n",
      " 'high52': 986.45,\n",
      " 'indexVar': None,\n",
      " 'isExDateFlag': False,\n",
      " 'isinCode': 'INE009A01021',\n",
      " 'lastPrice': 920.5,\n",
      " 'low52': 509.25,\n",
      " 'marketType': 'N',\n",
      " 'ndEndDate': None,\n",
      " 'ndStartDate': None,\n",
      " 'open': 915.0,\n",
      " 'pChange': '-1.61',\n",
      " 'previousClose': 935.55,\n",
      " 'priceBand': 'No Band',\n",
      " 'pricebandlower': 842.0,\n",
      " 'pricebandupper': 1029.1,\n",
      " 'purpose': 'DIVIDEND - RS 9.50 PER SHARE',\n",
      " 'quantityTraded': 8650414.0,\n",
      " 'recordDate': '01-JUN-20',\n",
      " 'secDate': '04-Sep-2020 00:00:00',\n",
      " 'securityVar': 15.26,\n",
      " 'sellPrice1': None,\n",
      " 'sellPrice2': None,\n",
      " 'sellPrice3': None,\n",
      " 'sellPrice4': None,\n",
      " 'sellPrice5': None,\n",
      " 'sellQuantity1': None,\n",
      " 'sellQuantity2': None,\n",
      " 'sellQuantity3': None,\n",
      " 'sellQuantity4': None,\n",
      " 'sellQuantity5': None,\n",
      " 'series': 'EQ',\n",
      " 'surv_indicator': None,\n",
      " 'symbol': 'INFY',\n",
      " 'totalBuyQuantity': 286.0,\n",
      " 'totalSellQuantity': None,\n",
      " 'totalTradedValue': 79740.38,\n",
      " 'totalTradedVolume': 8650414.0,\n",
      " 'varMargin': 15.26}\n"
     ]
    }
   ],
   "source": [
    "q = nse.get_quote('infy') # it's ok to use both upper or lower case for codes.\n",
    "from pprint import pprint # just for neatness of display\n",
    "pprint(q)"
   ]
  },
  {
   "cell_type": "code",
   "execution_count": 13,
   "metadata": {},
   "outputs": [
    {
     "data": {
      "text/plain": [
       "['NIFTY 50 Pre Open',\n",
       " 'NIFTY 50',\n",
       " 'NIFTY NEXT 50',\n",
       " 'NIFTY100 LIQ 15',\n",
       " 'NIFTY BANK',\n",
       " 'INDIA VIX',\n",
       " 'NIFTY 100',\n",
       " 'NIFTY 500',\n",
       " 'NIFTY MIDCAP 100',\n",
       " 'NIFTY MIDCAP 50',\n",
       " 'NIFTY INFRA',\n",
       " 'NIFTY REALTY',\n",
       " 'NIFTY ENERGY',\n",
       " 'NIFTY FMCG',\n",
       " 'NIFTY MNC',\n",
       " 'NIFTY PHARMA',\n",
       " 'NIFTY PSE',\n",
       " 'NIFTY PSU BANK',\n",
       " 'NIFTY SERV SECTOR',\n",
       " 'NIFTY IT',\n",
       " 'NIFTY SMLCAP 100',\n",
       " 'NIFTY 200',\n",
       " 'NIFTY AUTO',\n",
       " 'NIFTY MEDIA',\n",
       " 'NIFTY METAL',\n",
       " 'NIFTY DIV OPPS 50',\n",
       " 'NIFTY COMMODITIES',\n",
       " 'NIFTY CONSUMPTION',\n",
       " 'NIFTY CPSE',\n",
       " 'NIFTY FIN SERVICE',\n",
       " 'NIFTY GROWSECT 15',\n",
       " 'NIFTY50 VALUE 20',\n",
       " 'NIFTY50 TR 2X LEV',\n",
       " 'NIFTY50 PR 2X LEV',\n",
       " 'NIFTY50 TR 1X INV',\n",
       " 'NIFTY50 PR 1X INV',\n",
       " 'NIFTY ALPHA 50',\n",
       " 'NIFTY50 EQL WGT',\n",
       " 'NIFTY100 EQL WGT',\n",
       " 'NIFTY100 LOWVOL30',\n",
       " 'NIFTY MID LIQ 15',\n",
       " 'NIFTY PVT BANK',\n",
       " 'NIFTY100 QUALTY30',\n",
       " 'NIFTY GS 8 13YR',\n",
       " 'NIFTY GS 10YR',\n",
       " 'NIFTY GS 10YR CLN',\n",
       " 'NIFTY GS 4 8YR',\n",
       " 'NIFTY GS 11 15YR',\n",
       " 'NIFTY GS 15YRPLUS',\n",
       " 'NIFTY GS COMPSITE',\n",
       " 'NIFTY MIDCAP 150',\n",
       " 'NIFTY SMLCAP 50',\n",
       " 'NIFTY SMLCAP 250',\n",
       " 'NIFTY MIDSML 400',\n",
       " 'NIFTY200 QUALTY30']"
      ]
     },
     "execution_count": 13,
     "metadata": {},
     "output_type": "execute_result"
    }
   ],
   "source": [
    "nse.get_index_list()"
   ]
  },
  {
   "cell_type": "code",
   "execution_count": 14,
   "metadata": {},
   "outputs": [
    {
     "data": {
      "text/plain": [
       "{'name': 'NIFTY BANK',\n",
       " 'lastPrice': 23011.5,\n",
       " 'change': '-519.35',\n",
       " 'pChange': '-2.21',\n",
       " 'imgFileName': 'NIFTY_BANK_open.png'}"
      ]
     },
     "execution_count": 14,
     "metadata": {},
     "output_type": "execute_result"
    }
   ],
   "source": [
    "nse.get_index_quote(\"nifty bank\") # code can be provided in upper|lower case."
   ]
  },
  {
   "cell_type": "code",
   "execution_count": 15,
   "metadata": {},
   "outputs": [
    {
     "name": "stdout",
     "output_type": "stream",
     "text": [
      "[{'advances': 1.0, 'declines': 49.0, 'indice': 'NIFTY 50', 'unchanged': 0.0},\n",
      " {'advances': 4.0,\n",
      "  'declines': 46.0,\n",
      "  'indice': 'NIFTY NEXT 50',\n",
      "  'unchanged': 0.0},\n",
      " {'advances': 0.0, 'declines': 10.0, 'indice': 'NIFTY IT', 'unchanged': 0.0},\n",
      " {'advances': 1.0, 'declines': 11.0, 'indice': 'NIFTY BANK', 'unchanged': 0.0},\n",
      " {'advances': 3.0,\n",
      "  'declines': 47.0,\n",
      "  'indice': 'NIFTY MIDCAP 50',\n",
      "  'unchanged': 0.0},\n",
      " {'advances': 2.0, 'declines': 28.0, 'indice': 'NIFTY INFRA', 'unchanged': 0.0},\n",
      " {'advances': 0.0,\n",
      "  'declines': 10.0,\n",
      "  'indice': 'NIFTY REALTY',\n",
      "  'unchanged': 0.0},\n",
      " {'advances': 0.0,\n",
      "  'declines': 10.0,\n",
      "  'indice': 'NIFTY ENERGY',\n",
      "  'unchanged': 0.0},\n",
      " {'advances': 1.0, 'declines': 14.0, 'indice': 'NIFTY FMCG', 'unchanged': 0.0},\n",
      " {'advances': 10.0, 'declines': 20.0, 'indice': 'NIFTY MNC', 'unchanged': 0.0},\n",
      " {'advances': 0.0,\n",
      "  'declines': 10.0,\n",
      "  'indice': 'NIFTY PHARMA',\n",
      "  'unchanged': 0.0},\n",
      " {'advances': 0.0, 'declines': 20.0, 'indice': 'NIFTY PSE', 'unchanged': 0.0},\n",
      " {'advances': 1.0,\n",
      "  'declines': 10.0,\n",
      "  'indice': 'NIFTY PSU BANK',\n",
      "  'unchanged': 1.0},\n",
      " {'advances': 1.0,\n",
      "  'declines': 29.0,\n",
      "  'indice': 'NIFTY SERV SECTOR',\n",
      "  'unchanged': 0.0},\n",
      " {'advances': 0.0,\n",
      "  'declines': 30.0,\n",
      "  'indice': 'NIFTY COMMODITIES',\n",
      "  'unchanged': 0.0},\n",
      " {'advances': 1.0,\n",
      "  'declines': 29.0,\n",
      "  'indice': 'NIFTY CONSUMPTION',\n",
      "  'unchanged': 0.0},\n",
      " {'advances': 1.0,\n",
      "  'declines': 19.0,\n",
      "  'indice': 'NIFTY FIN SERVICE',\n",
      "  'unchanged': 0.0},\n",
      " {'advances': 2.0, 'declines': 13.0, 'indice': 'NIFTY AUTO', 'unchanged': 0.0},\n",
      " {'advances': 5.0,\n",
      "  'declines': 45.0,\n",
      "  'indice': 'NIFTY DIV OPPS 50',\n",
      "  'unchanged': 0.0},\n",
      " {'advances': 4.0, 'declines': 6.0, 'indice': 'NIFTY MEDIA', 'unchanged': 0.0},\n",
      " {'advances': 1.0, 'declines': 14.0, 'indice': 'NIFTY METAL', 'unchanged': 0.0},\n",
      " {'advances': 1.0,\n",
      "  'declines': 14.0,\n",
      "  'indice': 'NIFTY100 LIQ 15',\n",
      "  'unchanged': 0.0},\n",
      " {'advances': 0.0, 'declines': 12.0, 'indice': 'NIFTY CPSE', 'unchanged': 0.0},\n",
      " {'advances': 1.0,\n",
      "  'declines': 14.0,\n",
      "  'indice': 'NIFTY GROWSECT 15',\n",
      "  'unchanged': 0.0},\n",
      " {'advances': 0.0,\n",
      "  'declines': 20.0,\n",
      "  'indice': 'NIFTY50 VALUE 20',\n",
      "  'unchanged': 0.0},\n",
      " {'advances': 1.0,\n",
      "  'declines': 29.0,\n",
      "  'indice': 'NIFTY100 QUALTY30',\n",
      "  'unchanged': 0.0},\n",
      " {'advances': 1.0,\n",
      "  'declines': 9.0,\n",
      "  'indice': 'NIFTY PVT BANK',\n",
      "  'unchanged': 0.0},\n",
      " {'advances': 1.0,\n",
      "  'declines': 14.0,\n",
      "  'indice': 'NIFTY MID LIQ 15',\n",
      "  'unchanged': 0.0},\n",
      " {'advances': 5.0, 'declines': 95.0, 'indice': 'NIFTY 100', 'unchanged': 0.0},\n",
      " {'advances': 18.0, 'declines': 181.0, 'indice': 'NIFTY 200', 'unchanged': 1.0},\n",
      " {'advances': 84.0, 'declines': 413.0, 'indice': 'NIFTY 500', 'unchanged': 4.0},\n",
      " {'advances': 13.0,\n",
      "  'declines': 86.0,\n",
      "  'indice': 'NIFTY MIDCAP 100',\n",
      "  'unchanged': 1.0},\n",
      " {'advances': 13.0,\n",
      "  'declines': 86.0,\n",
      "  'indice': 'NIFTY SMLCAP 100',\n",
      "  'unchanged': 1.0},\n",
      " {'advances': 2.0,\n",
      "  'declines': 5.0,\n",
      "  'indice': 'NIFTY ADITYA BIRLA GROUP',\n",
      "  'unchanged': 0.0},\n",
      " {'advances': 8.0,\n",
      "  'declines': 42.0,\n",
      "  'indice': 'NIFTY ALPHA 50',\n",
      "  'unchanged': 0.0},\n",
      " {'advances': 3.0,\n",
      "  'declines': 47.0,\n",
      "  'indice': 'NIFTY HIGH BETA 50',\n",
      "  'unchanged': 0.0},\n",
      " {'advances': 6.0,\n",
      "  'declines': 44.0,\n",
      "  'indice': 'NIFTY LOW VOLATILITY 50',\n",
      "  'unchanged': 0.0},\n",
      " {'advances': 3.0,\n",
      "  'declines': 5.0,\n",
      "  'indice': 'NIFTY MAHINDRA GROUP',\n",
      "  'unchanged': 0.0},\n",
      " {'advances': 25.0,\n",
      "  'declines': 123.0,\n",
      "  'indice': 'NIFTY MIDCAP 150',\n",
      "  'unchanged': 2.0},\n",
      " {'advances': 78.0,\n",
      "  'declines': 318.0,\n",
      "  'indice': 'NIFTY MIDSMALLCAP 400',\n",
      "  'unchanged': 4.0},\n",
      " {'advances': 0.0,\n",
      "  'declines': 25.0,\n",
      "  'indice': 'NIFTY SHARIAH 25',\n",
      "  'unchanged': 0.0},\n",
      " {'advances': 53.0,\n",
      "  'declines': 195.0,\n",
      "  'indice': 'NIFTY SMALLCAP 250',\n",
      "  'unchanged': 2.0},\n",
      " {'advances': 9.0,\n",
      "  'declines': 41.0,\n",
      "  'indice': 'NIFTY SMALLCAP 50',\n",
      "  'unchanged': 0.0},\n",
      " {'advances': 1.0,\n",
      "  'declines': 21.0,\n",
      "  'indice': 'NIFTY TATA GROUP',\n",
      "  'unchanged': 0.0},\n",
      " {'advances': 0.0,\n",
      "  'declines': 10.0,\n",
      "  'indice': 'NIFTY TATA GROUP 25% CAP',\n",
      "  'unchanged': 0.0},\n",
      " {'advances': 5.0,\n",
      "  'declines': 95.0,\n",
      "  'indice': 'NIFTY100 EQL WGT',\n",
      "  'unchanged': 0.0},\n",
      " {'advances': 0.0,\n",
      "  'declines': 30.0,\n",
      "  'indice': 'NIFTY100 LOWVOL30',\n",
      "  'unchanged': 0.0},\n",
      " {'advances': 0.0,\n",
      "  'declines': 18.0,\n",
      "  'indice': 'NIFTY50 SHARIAH',\n",
      "  'unchanged': 0.0},\n",
      " {'advances': 37.0,\n",
      "  'declines': 171.0,\n",
      "  'indice': 'NIFTY500 SHARIAH',\n",
      "  'unchanged': 1.0},\n",
      " {'advances': 1.0,\n",
      "  'declines': 49.0,\n",
      "  'indice': 'NIFTY50 EQL WGT',\n",
      "  'unchanged': 0.0},\n",
      " {'advances': 0.0,\n",
      "  'declines': 30.0,\n",
      "  'indice': 'NIFTY ALPHA LOW-VOLATILITY 30',\n",
      "  'unchanged': 0.0},\n",
      " {'advances': 0.0,\n",
      "  'declines': 30.0,\n",
      "  'indice': 'NIFTY QUALITY LOW-VOLATILITY 30',\n",
      "  'unchanged': 0.0},\n",
      " {'advances': 0.0,\n",
      "  'declines': 30.0,\n",
      "  'indice': 'NIFTY ALPHA QUALITY LOW-VOLATILITY 30',\n",
      "  'unchanged': 0.0},\n",
      " {'advances': 1.0,\n",
      "  'declines': 29.0,\n",
      "  'indice': 'NIFTY ALPHA QUALITY VALUE LOW-VOLATILITY 30',\n",
      "  'unchanged': 0.0},\n",
      " {'advances': 22.0,\n",
      "  'declines': 24.0,\n",
      "  'indice': 'NIFTY SME EMERGE',\n",
      "  'unchanged': 61.0},\n",
      " {'advances': 30.0,\n",
      "  'declines': 218.0,\n",
      "  'indice': 'NIFTY LARGEMIDCAP 250',\n",
      "  'unchanged': 2.0},\n",
      " {'advances': 4.0,\n",
      "  'declines': 45.0,\n",
      "  'indice': 'NIFTY500 VALUE 50',\n",
      "  'unchanged': 1.0},\n",
      " {'advances': 25.0,\n",
      "  'declines': 123.0,\n",
      "  'indice': 'NIFTY MIDCAP 150',\n",
      "  'unchanged': 2.0},\n",
      " {'advances': 9.0,\n",
      "  'declines': 41.0,\n",
      "  'indice': 'NIFTY SMLCAP 50',\n",
      "  'unchanged': 0.0},\n",
      " {'advances': 53.0,\n",
      "  'declines': 195.0,\n",
      "  'indice': 'NIFTY SMLCAP 250',\n",
      "  'unchanged': 2.0},\n",
      " {'advances': 78.0,\n",
      "  'declines': 318.0,\n",
      "  'indice': 'NIFTY MIDSML 400',\n",
      "  'unchanged': 4.0},\n",
      " {'advances': 2.0,\n",
      "  'declines': 28.0,\n",
      "  'indice': 'NIFTY200 QUALTY30',\n",
      "  'unchanged': 0.0},\n",
      " {'advances': 1.0,\n",
      "  'declines': 19.0,\n",
      "  'indice': 'NIFTY FINSRV25 50',\n",
      "  'unchanged': 0.0},\n",
      " {'advances': 0.0,\n",
      "  'declines': 50.0,\n",
      "  'indice': 'CNX NIFTY Pre Open',\n",
      "  'unchanged': 0.0}]\n"
     ]
    }
   ],
   "source": [
    "adv_dec = nse.get_advances_declines()\n",
    "pprint(adv_dec)"
   ]
  },
  {
   "cell_type": "code",
   "execution_count": 17,
   "metadata": {},
   "outputs": [],
   "source": [
    "top_gainers = nse.get_top_gainers()"
   ]
  },
  {
   "cell_type": "code",
   "execution_count": 18,
   "metadata": {},
   "outputs": [
    {
     "name": "stdout",
     "output_type": "stream",
     "text": [
      "[{'highPrice': 7324.0,\n",
      "  'lastCorpAnnouncement': 'Dividend - Rs 60 Per Share',\n",
      "  'lastCorpAnnouncementDate': '13-Aug-2020',\n",
      "  'lowPrice': 6965.05,\n",
      "  'ltp': 7210.0,\n",
      "  'netPrice': 1.94,\n",
      "  'openPrice': 6985.0,\n",
      "  'previousPrice': 7072.6,\n",
      "  'series': 'EQ',\n",
      "  'symbol': 'MARUTI',\n",
      "  'tradedQuantity': 2185296.0,\n",
      "  'turnoverInLakhs': 157827.54}]\n"
     ]
    }
   ],
   "source": [
    "pprint(top_gainers)"
   ]
  },
  {
   "cell_type": "code",
   "execution_count": 19,
   "metadata": {},
   "outputs": [
    {
     "name": "stdout",
     "output_type": "stream",
     "text": [
      "[{'highPrice': 7324.0,\n",
      "  'lastCorpAnnouncement': 'Dividend - Rs 60 Per Share',\n",
      "  'lastCorpAnnouncementDate': '13-Aug-2020',\n",
      "  'lowPrice': 6965.05,\n",
      "  'ltp': 7210.0,\n",
      "  'netPrice': 1.94,\n",
      "  'openPrice': 6985.0,\n",
      "  'previousPrice': 7072.6,\n",
      "  'series': 'EQ',\n",
      "  'symbol': 'MARUTI',\n",
      "  'tradedQuantity': 2185296.0,\n",
      "  'turnoverInLakhs': 157827.54}]\n"
     ]
    }
   ],
   "source": [
    "top_gainers = nse.get_top_gainers()\n",
    "pprint(top_gainers)"
   ]
  },
  {
   "cell_type": "code",
   "execution_count": 20,
   "metadata": {},
   "outputs": [
    {
     "name": "stdout",
     "output_type": "stream",
     "text": [
      "[{'highPrice': 472.95,\n",
      "  'lastCorpAnnouncement': 'Annual General Meeting/ Dividend - Re 1 Per Share',\n",
      "  'lastCorpAnnouncementDate': '04-Jul-2019',\n",
      "  'lowPrice': 452.6,\n",
      "  'ltp': 457.05,\n",
      "  'netPrice': '-3.77',\n",
      "  'openPrice': 469.0,\n",
      "  'previousPrice': 474.95,\n",
      "  'series': 'EQ',\n",
      "  'symbol': 'AXISBANK',\n",
      "  'tradedQuantity': 29405504.0,\n",
      "  'turnoverInLakhs': 135918.12},\n",
      " {'highPrice': 433.95,\n",
      "  'lastCorpAnnouncement': 'Dividend - Rs 10 Per Share',\n",
      "  'lastCorpAnnouncementDate': '06-Aug-2020',\n",
      "  'lowPrice': 419.0,\n",
      "  'ltp': 421.9,\n",
      "  'netPrice': '-3.70',\n",
      "  'openPrice': 428.1,\n",
      "  'previousPrice': 438.1,\n",
      "  'series': 'EQ',\n",
      "  'symbol': 'TATASTEEL',\n",
      "  'tradedQuantity': 10530674.0,\n",
      "  'turnoverInLakhs': 45077.6},\n",
      " {'highPrice': 291.25,\n",
      "  'lastCorpAnnouncement': 'Dividend - Rs 2 Per Share',\n",
      "  'lastCorpAnnouncementDate': '06-Jul-2020',\n",
      "  'lowPrice': 280.55,\n",
      "  'ltp': 283.1,\n",
      "  'netPrice': '-3.51',\n",
      "  'openPrice': 286.05,\n",
      "  'previousPrice': 293.4,\n",
      "  'series': 'EQ',\n",
      "  'symbol': 'JSWSTEEL',\n",
      "  'tradedQuantity': 8443061.0,\n",
      "  'turnoverInLakhs': 24158.13},\n",
      " {'highPrice': 363.4,\n",
      "  'lastCorpAnnouncement': 'Annual General Meeting',\n",
      "  'lastCorpAnnouncementDate': '17-Jun-2020',\n",
      "  'lowPrice': 351.1,\n",
      "  'ltp': 354.2,\n",
      "  'netPrice': '-3.22',\n",
      "  'openPrice': 363.4,\n",
      "  'previousPrice': 366.0,\n",
      "  'series': 'EQ',\n",
      "  'symbol': 'ADANIPORTS',\n",
      "  'tradedQuantity': 7628188.0,\n",
      "  'turnoverInLakhs': 27247.89},\n",
      " {'highPrice': 97.45,\n",
      "  'lastCorpAnnouncement': 'Annual General Meeting',\n",
      "  'lastCorpAnnouncementDate': '16-Sep-2020',\n",
      "  'lowPrice': 94.0,\n",
      "  'ltp': 94.8,\n",
      "  'netPrice': '-2.97',\n",
      "  'openPrice': 96.05,\n",
      "  'previousPrice': 97.7,\n",
      "  'series': 'EQ',\n",
      "  'symbol': 'NTPC',\n",
      "  'tradedQuantity': 27339648.0,\n",
      "  'turnoverInLakhs': 26199.58},\n",
      " {'highPrice': 153.65,\n",
      "  'lastCorpAnnouncement': 'Dividend - Re 0.20/- Per Share',\n",
      "  'lastCorpAnnouncementDate': '18-Jul-2016',\n",
      "  'lowPrice': 147.0,\n",
      "  'ltp': 147.6,\n",
      "  'netPrice': '-2.80',\n",
      "  'openPrice': 147.9,\n",
      "  'previousPrice': 151.85,\n",
      "  'series': 'EQ',\n",
      "  'symbol': 'TATAMOTORS',\n",
      "  'tradedQuantity': 95565047.0,\n",
      "  'turnoverInLakhs': 143729.83},\n",
      " {'highPrice': 538.0,\n",
      "  'lastCorpAnnouncement': 'Dividend - Rs 2 Per Share',\n",
      "  'lastCorpAnnouncementDate': '06-Aug-2020',\n",
      "  'lowPrice': 519.5,\n",
      "  'ltp': 523.65,\n",
      "  'netPrice': '-2.67',\n",
      "  'openPrice': 531.5,\n",
      "  'previousPrice': 538.0,\n",
      "  'series': 'EQ',\n",
      "  'symbol': 'BHARTIARTL',\n",
      "  'tradedQuantity': 28083439.0,\n",
      "  'turnoverInLakhs': 148617.56},\n",
      " {'highPrice': 212.3,\n",
      "  'lastCorpAnnouncement': 'Annual General Meeting/ Change In Registrar And '\n",
      "                          'Transfer Agent',\n",
      "  'lastCorpAnnouncementDate': '15-Jun-2018',\n",
      "  'lowPrice': 205.9,\n",
      "  'ltp': 207.5,\n",
      "  'netPrice': '-2.65',\n",
      "  'openPrice': 210.0,\n",
      "  'previousPrice': 213.15,\n",
      "  'series': 'EQ',\n",
      "  'symbol': 'SBIN',\n",
      "  'tradedQuantity': 54435819.0,\n",
      "  'turnoverInLakhs': 113558.56},\n",
      " {'highPrice': 4483.45,\n",
      "  'lastCorpAnnouncement': 'Annual General Meeting/Dividend - Rs 25 Per Share',\n",
      "  'lastCorpAnnouncementDate': '13-Jul-2020',\n",
      "  'lowPrice': 4291.95,\n",
      "  'ltp': 4322.0,\n",
      "  'netPrice': '-2.51',\n",
      "  'openPrice': 4400.0,\n",
      "  'previousPrice': 4433.15,\n",
      "  'series': 'EQ',\n",
      "  'symbol': 'DRREDDY',\n",
      "  'tradedQuantity': 1354800.0,\n",
      "  'turnoverInLakhs': 59644.12},\n",
      " {'highPrice': 530.4,\n",
      "  'lastCorpAnnouncement': 'Annual General Meeting/Dividend - Re 1 Per Share',\n",
      "  'lastCorpAnnouncementDate': '19-Aug-2020',\n",
      "  'lowPrice': 508.25,\n",
      "  'ltp': 511.15,\n",
      "  'netPrice': '-2.35',\n",
      "  'openPrice': 518.0,\n",
      "  'previousPrice': 523.45,\n",
      "  'series': 'EQ',\n",
      "  'symbol': 'SUNPHARMA',\n",
      "  'tradedQuantity': 12380218.0,\n",
      "  'turnoverInLakhs': 64419.23}]\n"
     ]
    }
   ],
   "source": [
    "top_losers = nse.get_top_losers()\n",
    "pprint(top_losers)"
   ]
  },
  {
   "cell_type": "code",
   "execution_count": 21,
   "metadata": {},
   "outputs": [
    {
     "data": {
      "text/plain": [
       "True"
      ]
     },
     "execution_count": 21,
     "metadata": {},
     "output_type": "execute_result"
    }
   ],
   "source": [
    "nse.is_valid_code('infy') # this should return True"
   ]
  },
  {
   "cell_type": "code",
   "execution_count": 22,
   "metadata": {},
   "outputs": [
    {
     "data": {
      "text/plain": [
       "False"
      ]
     },
     "execution_count": 22,
     "metadata": {},
     "output_type": "execute_result"
    }
   ],
   "source": [
    "nse.is_valid_code('innnfy') # should return False"
   ]
  },
  {
   "cell_type": "code",
   "execution_count": 23,
   "metadata": {},
   "outputs": [
    {
     "data": {
      "text/plain": [
       "False"
      ]
     },
     "execution_count": 23,
     "metadata": {},
     "output_type": "execute_result"
    }
   ],
   "source": [
    "nse.is_valid_index('cnx nifty') # should return True"
   ]
  },
  {
   "cell_type": "code",
   "execution_count": 44,
   "metadata": {
    "scrolled": false
   },
   "outputs": [],
   "source": [
    "table1=nse.get_fno_lot_sizes()"
   ]
  },
  {
   "cell_type": "code",
   "execution_count": 45,
   "metadata": {},
   "outputs": [
    {
     "name": "stdout",
     "output_type": "stream",
     "text": [
      "{'SYMBOL': 'NAME OF COMPANY', '20MICRONS': '20 Microns Limited', '21STCENMGM': '21st Century Management Services Limited', '3IINFOTECH': '3i Infotech Limited', '3MINDIA': '3M India Limited', '3PLAND': '3P Land Holdings Limited', '5PAISA': '5Paisa Capital Limited', '63MOONS': '63 moons technologies limited', 'A2ZINFRA': 'A2Z Infra Engineering Limited', 'AARTIDRUGS': 'Aarti Drugs Limited', 'AARTIIND': 'Aarti Industries Limited', 'AARTISURF': 'Aarti Surfactants Limited', 'AARVEEDEN': 'Aarvee Denims & Exports Limited', 'AARVI': 'Aarvi Encon Limited', 'AAVAS': 'Aavas Financiers Limited', 'ABAN': 'Aban Offshore Limited', 'ABB': 'ABB India Limited', 'ABBOTINDIA': 'Abbott India Limited', 'ABCAPITAL': 'Aditya Birla Capital Limited', 'ABFRL': 'Aditya Birla Fashion and Retail Limited', 'ABMINTLTD': 'ABM International Limited', 'ACC': 'ACC Limited', 'ACCELYA': 'Accelya Solutions India Limited', 'ACE': 'Action Construction Equipment Limited', 'ADANIENT': 'Adani Enterprises Limited', 'ADANIGAS': 'Adani Gas Limited', 'ADANIGREEN': 'Adani Green Energy Limited', 'ADANIPORTS': 'Adani Ports and Special Economic Zone Limited', 'ADANIPOWER': 'Adani Power Limited', 'ADANITRANS': 'Adani Transmission Limited', 'ADFFOODS': 'ADF Foods Limited', 'ADHUNIKIND': 'Adhunik Industries Limited', 'ADORWELD': 'Ador Welding Limited', 'ADROITINFO': 'Adroit Infotech Limited', 'ADSL': 'Allied Digital Services Limited', 'ADVANIHOTR': 'Advani Hotels & Resorts (India) Limited', 'ADVENZYMES': 'Advanced Enzyme Technologies Limited', 'AEGISCHEM': 'Aegis Logistics Limited', 'AFFLE': 'Affle (India) Limited', 'AGARIND': 'Agarwal Industrial Corporation Limited', 'AGCNET': 'AGC Networks Limited', 'AGRITECH': 'Agri-Tech (India) Limited', 'AGROPHOS': 'Agro Phos India Limited', 'AHLEAST': 'Asian Hotels (East) Limited', 'AHLUCONT': 'Ahluwalia Contracts (India) Limited', 'AHLWEST': 'Asian Hotels (West) Limited', 'AIAENG': 'AIA Engineering Limited', 'AIONJSW': 'Monnet Ispat & Energy Limited', 'AIRAN': 'Airan Limited', 'AJANTPHARM': 'Ajanta Pharma Limited', 'AJMERA': 'Ajmera Realty & Infra India Limited', 'AKASH': 'Akash Infra-Projects Limited', 'AKSHARCHEM': 'AksharChem India Limited', 'AKSHOPTFBR': 'Aksh Optifibre Limited', 'AKZOINDIA': 'Akzo Nobel India Limited', 'ALANKIT': 'Alankit Limited', 'ALBERTDAVD': 'Albert David Limited', 'ALCHEM': 'Alchemist Limited', 'ALEMBICLTD': 'Alembic Limited', 'ALICON': 'Alicon Castalloy Limited', 'ALKALI': 'Alkali Metals Limited', 'ALKEM': 'Alkem Laboratories Limited', 'ALKYLAMINE': 'Alkyl Amines Chemicals Limited', 'ALLCARGO': 'Allcargo Logistics Limited', 'ALLSEC': 'Allsec Technologies Limited', 'ALMONDZ': 'Almondz Global Securities Limited', 'ALOKINDS': 'Alok Industries Limited', 'ALPA': 'Alpa Laboratories Limited', 'ALPHAGEO': 'Alphageo (India) Limited', 'ALPSINDUS': 'Alps Industries Limited', 'AMARAJABAT': 'Amara Raja Batteries Limited', 'AMBER': 'Amber Enterprises India Limited', 'AMBIKCO': 'Ambika Cotton Mills Limited', 'AMBUJACEM': 'Ambuja Cements Limited', 'AMDIND': 'AMD Industries Limited', 'AMJLAND': 'Amj Land Holdings Limited', 'AMRUTANJAN': 'Amrutanjan Health Care Limited', 'ANANTRAJ': 'Anant Raj Limited', 'ANDHRACEMT': 'Andhra Cements Limited', 'ANDHRAPAP': 'ANDHRA PAPER LIMITED', 'ANDHRSUGAR': 'The Andhra Sugars Limited', 'ANIKINDS': 'Anik Industries Limited', 'ANKITMETAL': 'Ankit Metal & Power Limited', 'ANSALAPI': 'Ansal Properties & Infrastructure Limited', 'ANSALHSG': 'Ansal Housing Limited', 'ANUP': 'The Anup Engineering Limited', 'APARINDS': 'Apar Industries Limited', 'APCL': 'Anjani Portland Cement Limited', 'APCOTEXIND': 'Apcotex Industries Limited', 'APEX': 'Apex Frozen Foods Limited', 'APLAPOLLO': 'APL Apollo Tubes Limited', 'APLLTD': 'Alembic Pharmaceuticals Limited', 'APOLLO': 'Apollo Micro Systems Limited', 'APOLLOHOSP': 'Apollo Hospitals Enterprise Limited', 'APOLLOPIPE': 'Apollo Pipes Limited', 'APOLLOTYRE': 'Apollo Tyres Limited', 'APOLSINHOT': 'Apollo Sindoori Hotels Limited', 'APTECHT': 'Aptech Limited', 'ARCHIDPLY': 'Archidply Industries Limited', 'ARCHIES': 'Archies Limited', 'ARCOTECH': 'Arcotech Limited', 'ARENTERP': 'Rajdarshan Industries Limited', 'ARIES': 'Aries Agro Limited', 'ARIHANT': 'Arihant Foundations & Housing Limited', 'ARIHANTSUP': 'Arihant Superstructures Limited', 'ARMANFIN': 'Arman Financial Services Limited', 'AROGRANITE': 'Aro Granite Industries Limited', 'ARROWGREEN': 'Arrow Greentech Limited', 'ARSHIYA': 'Arshiya Limited', 'ARSSINFRA': 'ARSS Infrastructure Projects Limited', 'ARTEMISMED': 'Artemis Medicare Services Limited', 'ARVIND': 'Arvind Limited', 'ARVINDFASN': 'Arvind Fashions Limited', 'ARVSMART': 'Arvind SmartSpaces Limited', 'ASAHIINDIA': 'Asahi India Glass Limited', 'ASAHISONG': 'Asahi Songwon Colors Limited', 'ASAL': 'Automotive Stampings and Assemblies Limited', 'ASALCBR': 'Associated Alcohols & Breweries Ltd.', 'ASHAPURMIN': 'Ashapura Minechem Limited', 'ASHIANA': 'Ashiana Housing Limited', 'ASHIMASYN': 'Ashima Limited', 'ASHOKA': 'Ashoka Buildcon Limited', 'ASHOKLEY': 'Ashok Leyland Limited', 'ASIANHOTNR': 'Asian Hotels (North) Limited', 'ASIANPAINT': 'Asian Paints Limited', 'ASIANTILES': 'Asian Granito India Limited', 'ASPINWALL': 'Aspinwall and Company Limited', 'ASTEC': 'Astec LifeSciences Limited', 'ASTERDM': 'Aster DM Healthcare Limited', 'ASTRAL': 'Astral Poly Technik Limited', 'ASTRAMICRO': 'Astra Microwave Products Limited', 'ASTRAZEN': 'AstraZeneca Pharma India Limited', 'ASTRON': 'Astron Paper & Board Mill Limited', 'ATFL': 'Agro Tech Foods Limited', 'ATLANTA': 'Atlanta  Limited', 'ATLASCYCLE': 'Atlas Cycles (Haryana) Limited', 'ATUL': 'Atul Limited', 'ATULAUTO': 'Atul Auto Limited', 'AUBANK': 'AU Small Finance Bank Limited', 'AURIONPRO': 'Aurionpro Solutions Limited', 'AUROPHARMA': 'Aurobindo Pharma Limited', 'AUSOMENT': 'Ausom Enterprise Limited', 'AUTOAXLES': 'Automotive Axles Limited', 'AUTOIND': 'Autoline Industries Limited', 'AUTOLITIND': 'Autolite (India) Limited', 'AVADHSUGAR': 'Avadh Sugar & Energy Limited', 'AVANTIFEED': 'Avanti Feeds Limited', 'AVTNPL': 'AVT Natural Products Limited', 'AXISBANK': 'Axis Bank Limited', 'AXISCADES': 'AXISCADES Engineering Technologies Limited', 'AYMSYNTEX': 'AYM Syntex Limited', 'BAGFILMS': 'B.A.G Films and Media Limited', 'BAJAJ-AUTO': 'Bajaj Auto Limited', 'BAJAJCON': 'Bajaj Consumer Care Limited', 'BAJAJELEC': 'Bajaj Electricals Limited', 'BAJAJFINSV': 'Bajaj Finserv Limited', 'BAJAJHIND': 'Bajaj Hindusthan Sugar Limited', 'BAJAJHLDNG': 'Bajaj Holdings & Investment Limited', 'BAJFINANCE': 'Bajaj Finance Limited', 'BALAJITELE': 'Balaji Telefilms Limited', 'BALAMINES': 'Balaji Amines Limited', 'BALAXI': 'Balaxi Ventures Limited', 'BALKRISHNA': 'Balkrishna Paper Mills Limited', 'BALKRISIND': 'Balkrishna Industries Limited', 'BALLARPUR': 'Ballarpur Industries Limited', 'BALMLAWRIE': 'Balmer Lawrie & Company Limited', 'BALPHARMA': 'Bal Pharma Limited', 'BALRAMCHIN': 'Balrampur Chini Mills Limited', 'BANARBEADS': 'Banaras Beads Limited', 'BANARISUG': 'Bannari Amman Sugars Limited', 'BANCOINDIA': 'Banco Products (I) Limited', 'BANDHANBNK': 'Bandhan Bank Limited', 'BANG': 'Bang Overseas Limited', 'BANKBARODA': 'Bank of Baroda', 'BANKINDIA': 'Bank of India', 'BANSWRAS': 'Banswara Syntex Limited', 'BARTRONICS': 'Bartronics India Limited', 'BASF': 'BASF India Limited', 'BASML': 'Bannari Amman Spinning Mills Limited', 'BATAINDIA': 'Bata India Limited', 'BAYERCROP': 'Bayer Cropscience Limited', 'BBL': 'Bharat Bijlee Limited', 'BBTC': 'Bombay Burmah Trading Corporation Limited', 'BCG': 'Brightcom Group Limited', 'BCP': 'B.C. Power Controls Ltd', 'BDL': 'Bharat Dynamics Limited', 'BEARDSELL': 'Beardsell Limited', 'BEDMUTHA': 'Bedmutha Industries Limited', 'BEL': 'Bharat Electronics Limited', 'BEML': 'BEML Limited', 'BEPL': 'Bhansali Engineering Polymers Limited', 'BERGEPAINT': 'Berger Paints (I) Limited', 'BFINVEST': 'BF Investment Limited', 'BFUTILITIE': 'BF Utilities Limited', 'BGRENERGY': 'BGR Energy Systems Limited', 'BHAGERIA': 'Bhageria Industries Limited', 'BHAGYANGR': 'Bhagyanagar India Limited', 'BHAGYAPROP': 'Bhagyanagar Properties Limited', 'BHANDARI': 'Bhandari Hosiery Exports Limited', 'BHARATFORG': 'Bharat Forge Limited', 'BHARATGEAR': 'Bharat Gears Limited', 'BHARATRAS': 'Bharat Rasayan Limited', 'BHARATWIRE': 'Bharat Wire Ropes Limited', 'BHARTIARTL': 'Bharti Airtel Limited', 'BHEL': 'Bharat Heavy Electricals Limited', 'BIGBLOC': 'Bigbloc Construction Limited', 'BIL': 'Bhartiya International Limited', 'BILENERGY': 'Bil Energy Systems Limited', 'BINDALAGRO': 'Oswal Chemicals & Fertilizers Limited', 'BIOCON': 'Biocon Limited', 'BIOFILCHEM': 'Biofil Chemicals & Pharmaceuticals Limited', 'BIRLACABLE': 'Birla Cable Limited', 'BIRLACORPN': 'Birla Corporation Limited', 'BIRLAMONEY': 'Aditya Birla Money Limited', 'BIRLATYRE': 'Birla Tyres Limited', 'BKMINDST': 'Bkm Industries Limited', 'BLBLIMITED': 'BLB Limited', 'BLISSGVS': 'Bliss GVS Pharma Limited', 'BLKASHYAP': 'B. L. Kashyap and Sons Limited', 'BLS': 'BLS International Services Limited', 'BLUEDART': 'Blue Dart Express Limited', 'BLUESTARCO': 'Blue Star Limited', 'BODALCHEM': 'Bodal Chemicals Limited', 'BOMDYEING': 'Bombay Dyeing & Mfg Company Limited', 'BOROLTD': 'Borosil Limited', 'BORORENEW': 'BOROSIL RENEWABLES LIMITED', 'BOSCHLTD': 'Bosch Limited', 'BPCL': 'Bharat Petroleum Corporation Limited', 'BPL': 'BPL Limited', 'BRFL': 'Bombay Rayon Fashions Limited', 'BRIGADE': 'Brigade Enterprises Limited', 'BRITANNIA': 'Britannia Industries Limited', 'BRNL': 'Bharat Road Network Limited', 'BROOKS': 'Brooks Laboratories Limited', 'BSE': 'BSE Limited', 'BSELINFRA': 'BSEL Infrastructure Realty Limited', 'BSL': 'BSL Limited', 'BSOFT': 'BIRLASOFT LIMITED', 'BURNPUR': 'Burnpur Cement Limited', 'BUTTERFLY': 'Butterfly Gandhimathi Appliances Limited', 'BVCL': 'Barak Valley Cements Limited', 'BYKE': 'The Byke Hospitality Ltd', 'CADILAHC': 'Cadila Healthcare Limited', 'CALSOFT': 'California Software Company Limited', 'CAMLINFINE': 'Camlin Fine Sciences Limited', 'CANBK': 'Canara Bank', 'CANDC': 'C & C Constructions Limited', 'CANFINHOME': 'Can Fin Homes Limited', 'CANTABIL': 'Cantabil Retail India Limited', 'CAPACITE': \"Capacit'e Infraprojects Limited\", 'CAPLIPOINT': 'Caplin Point Laboratories Limited', 'CAPTRUST': 'Capital Trust Limited', 'CARBORUNIV': 'Carborundum Universal Limited', 'CAREERP': 'Career Point Limited', 'CARERATING': 'CARE Ratings Limited', 'CASTROLIND': 'Castrol India Limited', 'CCHHL': 'Country Club Hospitality & Holidays Limited', 'CCL': 'CCL Products (India) Limited', 'CDSL': 'Central Depository Services (India) Limited', 'CEATLTD': 'CEAT Limited', 'CEBBCO': 'Commercial Engineers & Body Builders Co Limited', 'CELEBRITY': 'Celebrity Fashions Limited', 'CENTENKA': 'Century Enka Limited', 'CENTEXT': 'Century Extrusions Limited', 'CENTRALBK': 'Central Bank of India', 'CENTRUM': 'Centrum Capital Limited', 'CENTUM': 'Centum Electronics Limited', 'CENTURYPLY': 'Century Plyboards (India) Limited', 'CENTURYTEX': 'Century Textiles & Industries Limited', 'CERA': 'Cera Sanitaryware Limited', 'CEREBRAINT': 'Cerebra Integrated Technologies Limited', 'CESC': 'CESC Limited', 'CESCVENT': 'CESC Ventures Limited', 'CGCL': 'Capri Global Capital Limited', 'CGPOWER': 'CG Power and Industrial Solutions Limited', 'CHALET': 'Chalet Hotels Limited', 'CHAMBLFERT': 'Chambal Fertilizers & Chemicals Limited', 'CHEMBOND': 'Chembond Chemicals Ltd', 'CHEMFAB': 'Chemfab Alkalis Limited', 'CHENNPETRO': 'Chennai Petroleum Corporation Limited', 'CHOLAFIN': 'Cholamandalam Investment and Finance Company Limited', 'CHOLAHLDNG': 'Cholamandalam Financial Holdings Limited', 'CHROMATIC': 'Chromatic India Limited', 'CIGNITITEC': 'Cigniti Technologies Limited', 'CIMMCO': 'Cimmco Limited', 'CINELINE': 'Cineline India Limited', 'CINEVISTA': 'Cinevista Limited', 'CIPLA': 'Cipla Limited', 'CKFSL': 'Cox & Kings Financial Service Limited', 'CLEDUCATE': 'CL Educate Limited', 'CLNINDIA': 'Clariant Chemicals (India) Limited', 'CMICABLES': 'CMI Limited', 'CNOVAPETRO': 'CIL Nova Petrochemicals Limited', 'COALINDIA': 'Coal India Limited', 'COCHINSHIP': 'Cochin Shipyard Limited', 'COFORGE': 'Coforge Limited', 'COLPAL': 'Colgate Palmolive (India) Limited', 'COMPINFO': 'Compuage Infocom Limited', 'COMPUSOFT': 'Compucom Software Limited', 'CONCOR': 'Container Corporation of India Limited', 'CONFIPET': 'Confidence Petroleum India Limited', 'CONSOFINVT': 'Consolidated Finvest & Holdings Limited', 'CONTROLPR': 'Control Print Limited', 'CORALFINAC': 'Coral India Finance & Housing Limited', 'CORDSCABLE': 'Cords Cable Industries Limited', 'COROMANDEL': 'Coromandel International Limited', 'COSMOFILMS': 'Cosmo Films Limited', 'COUNCODOS': \"Country Condo's Limited\", 'COX&KINGS': 'Cox & Kings Limited', 'CREATIVE': 'Creative Peripherals and Distribution Limited', 'CREATIVEYE': 'Creative Eye Limited', 'CREDITACC': 'CREDITACCESS GRAMEEN LIMITED', 'CREST': 'Crest Ventures Limited', 'CRISIL': 'CRISIL Limited', 'CROMPTON': 'Crompton Greaves Consumer Electricals Limited', 'CSBBANK': 'CSB Bank Limited', 'CTE': 'Cambridge Technology Enterprises Limited', 'CUB': 'City Union Bank Limited', 'CUBEXTUB': 'Cubex Tubings Limited', 'CUMMINSIND': 'Cummins India Limited', 'CUPID': 'Cupid Limited', 'CYBERTECH': 'Cybertech Systems And Software Limited', 'CYIENT': 'Cyient Limited', 'DAAWAT': 'LT Foods Limited', 'DABUR': 'Dabur India Limited', 'DALBHARAT': 'Dalmia Bharat Limited', 'DALMIASUG': 'Dalmia Bharat Sugar and Industries Limited', 'DAMODARIND': 'Damodar Industries Limited', 'DATAMATICS': 'Datamatics Global Services Limited', 'DBCORP': 'D.B.Corp Limited', 'DBL': 'Dilip Buildcon Limited', 'DBREALTY': 'D B Realty Limited', 'DBSTOCKBRO': 'DB (International) Stock Brokers Limited', 'DCAL': 'Dishman Carbogen Amcis Limited', 'DCBBANK': 'DCB Bank Limited', 'DCM': 'DCM  Limited', 'DCMFINSERV': 'DCM Financial Services Limited', 'DCMNVL': 'DCM Nouvelle Limited', 'DCMSHRIRAM': 'DCM Shriram Limited', 'DCW': 'DCW Limited', 'DECCANCE': 'Deccan Cements Limited', 'DEEPAKFERT': 'Deepak Fertilizers and Petrochemicals Corporation Limited', 'DEEPAKNTR': 'Deepak Nitrite Limited', 'DEEPIND': 'Deep Industries Limited', 'DELTACORP': 'Delta Corp Limited', 'DELTAMAGNT': 'Delta Manufacturing Limited', 'DEN': 'Den Networks Limited', 'DENORA': 'De Nora India Limited', 'DFMFOODS': 'DFM Foods Limited', 'DGCONTENT': 'Digicontent Limited', 'DHAMPURSUG': 'Dhampur Sugar Mills Limited', 'DHANBANK': 'Dhanlaxmi Bank Limited', 'DHANUKA': 'Dhanuka Agritech Limited', 'DHARSUGAR': 'Dharani Sugars & Chemicals Limited', 'DHFL': 'Dewan Housing Finance Corporation Limited', 'DHUNINV': 'Dhunseri Investments Limited', 'DIAMONDYD': 'Prataap Snacks Limited', 'DIAPOWER': 'Diamond Power Infra Ltd', 'DICIND': 'DIC India Limited', 'DIGISPICE': 'DiGiSPICE Technologies Limited', 'DIGJAMLTD': 'Digjam Limited', 'DISHTV': 'Dish TV India Limited', 'DIVISLAB': \"Divi's Laboratories Limited\", 'DIXON': 'Dixon Technologies (India) Limited', 'DLF': 'DLF Limited', 'DLINKINDIA': 'D-Link (India) Limited', 'DMART': 'Avenue Supermarts Limited', 'DNAMEDIA': 'Diligent Media Corporation Limited', 'DOLAT': 'Dolat Investments Limited', 'DOLLAR': 'Dollar Industries Limited', 'DONEAR': 'Donear Industries Limited', 'DPSCLTD': 'DPSC Limited', 'DPWIRES': 'D P Wires Limited', 'DQE': 'DQ Entertainment (International) Limited', 'DREDGECORP': 'Dredging Corporation of India Limited', 'DRREDDY': \"Dr. Reddy's Laboratories Limited\", 'DSSL': 'Dynacons Systems & Solutions Limited', 'DTIL': 'Dhunseri Tea & Industries Limited', 'DUCON': 'Ducon Infratechnologies Limited', 'DVL': 'Dhunseri Ventures Limited', 'DWARKESH': 'Dwarikesh Sugar Industries Limited', 'DYNAMATECH': 'Dynamatic Technologies Limited', 'DYNPRO': 'Dynemic Products Limited', 'EASTSILK': 'Eastern Silk Industries Limited', 'EASUNREYRL': 'Easun Reyrolle Limited', 'EBIXFOREX': 'EBIXCASH WORLD MONEY INDIA LIMITED', 'ECLERX': 'eClerx Services Limited', 'EDELWEISS': 'Edelweiss Financial Services Limited', 'EDUCOMP': 'Educomp Solutions Limited', 'EICHERMOT': 'Eicher Motors Limited', 'EIDPARRY': 'EID Parry India Limited', 'EIHAHOTELS': 'EIH Associated Hotels Limited', 'EIHOTEL': 'EIH Limited', 'EIMCOELECO': 'Eimco Elecon (India) Limited', 'EKC': 'Everest Kanto Cylinder Limited', 'ELECON': 'Elecon Engineering Company Limited', 'ELECTCAST': 'Electrosteel Castings Limited', 'ELECTHERM': 'Electrotherm (India) Limited', 'ELGIEQUIP': 'Elgi Equipments Limited', 'ELGIRUBCO': 'Elgi Rubber Company Limited', 'EMAMILTD': 'Emami Limited', 'EMAMIPAP': 'Emami Paper Mills Limited', 'EMAMIREAL': 'Emami Realty Limited', 'EMCO': 'Emco Limited', 'EMKAY': 'Emkay Global Financial Services Limited', 'EMMBI': 'Emmbi Industries Limited', 'ENDURANCE': 'Endurance Technologies Limited', 'ENERGYDEV': 'Energy Development Company Limited', 'ENGINERSIN': 'Engineers India Limited', 'ENIL': 'Entertainment Network (India) Limited', 'EQUITAS': 'Equitas Holdings Limited', 'ERIS': 'Eris Lifesciences Limited', 'EROSMEDIA': 'Eros International Media Limited', 'ESABINDIA': 'Esab India Limited', 'ESCORTS': 'Escorts Limited', 'ESSARSHPNG': 'Essar Shipping Limited', 'ESSELPACK': 'Essel Propack Limited', 'ESTER': 'Ester Industries Limited', 'EUROCERA': 'Euro Ceramics Limited', 'EUROMULTI': 'Euro Multivision Limited', 'EUROTEXIND': 'Eurotex Industries and Exports Limited', 'EVEREADY': 'Eveready Industries India Limited', 'EVERESTIND': 'Everest Industries Limited', 'EXCEL': 'Excel Realty N Infra Limited', 'EXCELINDUS': 'Excel Industries Limited', 'EXIDEIND': 'Exide Industries Limited', 'EXPLEOSOL': 'Expleo Solutions Limited', 'FACT': 'Fertilizers and Chemicals Travancore Limited', 'FAIRCHEM': 'Fairchem Speciality Limited', 'FCL': 'Fineotex Chemical Limited', 'FCONSUMER': 'Future Consumer Limited', 'FCSSOFT': 'FCS Software Solutions Limited', 'FDC': 'FDC Limited', 'FEDERALBNK': 'The Federal Bank  Limited', 'FEL': 'Future Enterprises Limited', 'FELDVR': 'Future Enterprises Limited', 'FIEMIND': 'Fiem Industries Limited', 'FILATEX': 'Filatex India Limited', 'FINCABLES': 'Finolex Cables Limited', 'FINEORG': 'Fine Organic Industries Limited', 'FINPIPE': 'Finolex Industries Limited', 'FLEXITUFF': 'Flexituff Ventures International Limited', 'FLFL': 'Future Lifestyle Fashions Limited', 'FLUOROCHEM': 'Gujarat Fluorochemicals Limited', 'FMGOETZE': 'Federal-Mogul Goetze (India) Limited.', 'FMNL': 'Future Market Networks Limited', 'FORCEMOT': 'FORCE MOTORS LTD', 'FORTIS': 'Fortis Healthcare Limited', 'FOSECOIND': 'Foseco India Limited', 'FRETAIL': 'Future Retail Limited', 'FSC': 'Future Supply Chain Solutions Limited', 'FSL': 'Firstsource Solutions Limited', 'GABRIEL': 'Gabriel India Limited', 'GAEL': 'Gujarat Ambuja Exports Limited', 'GAIL': 'GAIL (India) Limited', 'GAL': 'Gyscoal Alloys Limited', 'GALAXYSURF': 'Galaxy Surfactants Limited', 'GALLANTT': 'Gallantt Metal Limited', 'GALLISPAT': 'Gallantt Ispat Limited', 'GAMMNINFRA': 'Gammon Infrastructure Projects Limited', 'GANDHITUBE': 'Gandhi Special Tubes Limited', 'GANECOS': 'Ganesha Ecosphere Limited', 'GANESHHOUC': 'Ganesh Housing Corporation Limited', 'GANGESSECU': 'Ganges Securities Limited', 'GARDENSILK': 'Garden Silk Mills Limited', 'GARFIBRES': 'Garware Technical Fibres Limited', 'GATI': 'GATI Limited', 'GAYAHWS': 'Gayatri Highways Limited', 'GAYAPROJ': 'Gayatri Projects Limited', 'GDL': 'Gateway Distriparks Limited', 'GEECEE': 'GeeCee Ventures Limited', 'GEEKAYWIRE': 'Geekay Wires Limited', 'GENESYS': 'Genesys International Corporation Limited', 'GENUSPAPER': 'Genus Paper & Boards Limited', 'GENUSPOWER': 'Genus Power Infrastructures Limited', 'GEOJITFSL': 'Geojit Financial Services Limited', 'GEPIL': 'GE Power India Limited', 'GESHIP': 'The Great Eastern Shipping Company Limited', 'GET&D': 'GE T&D India Limited', 'GFLLIMITED': 'GFL Limited', 'GFSTEELS': 'Grand Foundry Limited', 'GHCL': 'GHCL Limited', 'GICHSGFIN': 'GIC Housing Finance Limited', 'GICRE': 'General Insurance Corporation of India', 'GILLANDERS': 'Gillanders Arbuthnot & Company Limited', 'GILLETTE': 'Gillette India Limited', 'GINNIFILA': 'Ginni Filaments Limited', 'GIPCL': 'Gujarat Industries Power Company Limited', 'GISOLUTION': 'GI Engineering Solutions Limited', 'GKWLIMITED': 'GKW Limited', 'GLAXO': 'GlaxoSmithKline Pharmaceuticals Limited', 'GLENMARK': 'Glenmark Pharmaceuticals Limited', 'GLFL': 'Gujarat Lease Financing Limited', 'GLOBALVECT': 'Global Vectra Helicorp Limited', 'GLOBOFFS': 'Global Offshore Services Limited', 'GLOBUSSPR': 'Globus Spirits Limited', 'GMBREW': 'GM Breweries Limited', 'GMDCLTD': 'Gujarat Mineral Development Corporation Limited', 'GMMPFAUDLR': 'GMM Pfaudler Limited', 'GMRINFRA': 'GMR Infrastructure Limited', 'GNA': 'GNA Axles Limited', 'GNFC': 'Gujarat Narmada Valley Fertilizers and Chemicals Limited', 'GOACARBON': 'Goa Carbon Limited', 'GOCLCORP': 'GOCL Corporation Limited', 'GODFRYPHLP': 'Godfrey Phillips India Limited', 'GODREJAGRO': 'Godrej Agrovet Limited', 'GODREJCP': 'Godrej Consumer Products Limited', 'GODREJIND': 'Godrej Industries Limited', 'GODREJPROP': 'Godrej Properties Limited', 'GOENKA': 'Goenka Diamond and Jewels Limited', 'GOKEX': 'Gokaldas Exports Limited', 'GOKUL': 'Gokul Refoils and Solvent Limited', 'GOKULAGRO': 'Gokul Agro Resources Limited', 'GOLDENTOBC': 'Golden Tobacco Limited', 'GOLDIAM': 'Goldiam International Limited', 'GOLDTECH': 'Goldstone Technologies Limited', 'GOODLUCK': 'Goodluck India Limited', 'GPIL': 'Godawari Power And Ispat limited', 'GPPL': 'Gujarat Pipavav Port Limited', 'GPTINFRA': 'GPT Infraprojects Limited', 'GRANULES': 'Granules India Limited', 'GRAPHITE': 'Graphite India Limited', 'GRASIM': 'Grasim Industries Limited', 'GRAVITA': 'Gravita India Limited', 'GREAVESCOT': 'Greaves Cotton Limited', 'GREENLAM': 'Greenlam Industries Limited', 'GREENPANEL': 'Greenpanel Industries Limited', 'GREENPLY': 'Greenply Industries Limited', 'GREENPOWER': 'Orient Green Power Company Limited', 'GRINDWELL': 'Grindwell Norton Limited', 'GROBTEA': 'The Grob Tea Company Limited', 'GRPLTD': 'GRP Limited', 'GRSE': 'Garden Reach Shipbuilders & Engineers Limited', 'GSCLCEMENT': 'Gujarat Sidhee Cement Limited', 'GSFC': 'Gujarat State Fertilizers & Chemicals Limited', 'GSPL': 'Gujarat State Petronet Limited', 'GSS': 'GSS Infotech Limited', 'GTLINFRA': 'GTL Infrastructure Limited', 'GTNIND': 'GTN Industries Limited', 'GTNTEX': 'GTN Textiles Limited', 'GTPL': 'GTPL Hathway Limited', 'GUFICBIO': 'Gufic Biosciences Limited', 'GUJALKALI': 'Gujarat Alkalies and Chemicals Limited', 'GUJAPOLLO': 'Gujarat Apollo Industries Limited', 'GUJGASLTD': 'Gujarat Gas Limited', 'GUJRAFFIA': 'Gujarat Raffia Industries Limited', 'GULFOILLUB': 'Gulf Oil Lubricants India Limited', 'GULFPETRO': 'GP Petroleums Limited', 'GULPOLY': 'Gulshan Polyols Limited', 'GVKPIL': 'GVK Power & Infrastructure Limited', 'HAL': 'Hindustan Aeronautics Limited', 'HARITASEAT': 'Harita Seating Systems Limited', 'HARRMALAYA': 'Harrisons  Malayalam Limited', 'HATHWAY': 'Hathway Cable & Datacom Limited', 'HATSUN': 'Hatsun Agro Product Limited', 'HAVELLS': 'Havells India Limited', 'HAVISHA': 'Sri Havisha Hospitality and Infrastructure Limited', 'HBLPOWER': 'HBL Power Systems Limited', 'HBSL': 'HB Stockholdings Limited', 'HCC': 'Hindustan Construction Company Limited', 'HCG': 'Healthcare Global Enterprises Limited', 'HCL-INSYS': 'HCL Infosystems Limited', 'HCLTECH': 'HCL Technologies Limited', 'HDFC': 'Housing Development Finance Corporation Limited', 'HDFCAMC': 'HDFC Asset Management Company Limited', 'HDFCBANK': 'HDFC Bank Limited', 'HDFCLIFE': 'HDFC Life Insurance Company Limited', 'HDIL': 'Housing Development and Infrastructure Limited', 'HEG': 'HEG Limited', 'HEIDELBERG': 'HeidelbergCement India Limited', 'HERCULES': 'Hercules Hoists Limited', 'HERITGFOOD': 'Heritage Foods Limited', 'HEROMOTOCO': 'Hero MotoCorp Limited', 'HESTERBIO': 'Hester Biosciences Limited', 'HEXATRADEX': 'Hexa Tradex Limited', 'HEXAWARE': 'Hexaware Technologies Limited', 'HFCL': 'HFCL Limited', 'HGINFRA': 'H.G. Infra Engineering Limited', 'HGS': 'Hinduja Global Solutions Limited', 'HIKAL': 'Hikal Limited', 'HIL': 'HIL Limited', 'HILTON': 'Hilton Metal Forging Limited', 'HIMATSEIDE': 'Himatsingka Seide Limited', 'HINDALCO': 'Hindalco Industries Limited', 'HINDCOMPOS': 'Hindustan Composites Limited', 'HINDCOPPER': 'Hindustan Copper Limited', 'HINDMOTORS': 'Hindustan Motors Limited', 'HINDNATGLS': 'Hindusthan National Glass & Industries Limited', 'HINDOILEXP': 'Hindustan Oil Exploration Company Limited', 'HINDPETRO': 'Hindustan Petroleum Corporation Limited', 'HINDUNILVR': 'Hindustan Unilever Limited', 'HINDZINC': 'Hindustan Zinc Limited', 'HIRECT': 'Hind Rectifiers Limited', 'HISARMETAL': 'Hisar Metal Industries Limited', 'HITECH': 'Hi-Tech Pipes Limited', 'HITECHCORP': 'Hitech Corporation Limited', 'HITECHGEAR': 'The Hi-Tech Gears Limited', 'HLVLTD': 'HLV LIMITED', 'HMT': 'HMT Limited', 'HMVL': 'Hindustan Media Ventures Limited', 'HNDFDS': 'Hindustan Foods Limited', 'HONAUT': 'Honeywell Automation India Limited', 'HONDAPOWER': 'Honda India Power Products Limited', 'HOTELRUGBY': 'Hotel Rugby Limited', 'HOVS': 'HOV Services Limited', 'HPL': 'HPL Electric & Power Limited', 'HSCL': 'Himadri Speciality Chemical Limited', 'HSIL': 'HSIL Limited', 'HTMEDIA': 'HT Media Limited', 'HUBTOWN': 'Hubtown Limited', 'HUDCO': 'Housing & Urban Development Corporation Limited', 'IBREALEST': 'Indiabulls Real Estate Limited', 'IBULHSGFIN': 'Indiabulls Housing Finance Limited', 'IBULISL': 'Indiabulls Integrated Services Limited', 'IBVENTURES': 'Indiabulls Ventures Limited', 'ICICIBANK': 'ICICI Bank Limited', 'ICICIGI': 'ICICI Lombard General Insurance Company Limited', 'ICICIPRULI': 'ICICI Prudential Life Insurance Company Limited', 'ICIL': 'Indo Count Industries Limited', 'ICRA': 'ICRA Limited', 'IDBI': 'IDBI Bank Limited', 'IDEA': 'Vodafone Idea Limited', 'IDFC': 'IDFC Limited', 'IDFCFIRSTB': 'IDFC First Bank Limited', 'IEX': 'Indian Energy Exchange Limited', 'IFBAGRO': 'IFB Agro Industries Limited', 'IFBIND': 'IFB Industries Limited', 'IFCI': 'IFCI Limited', 'IFGLEXPOR': 'IFGL Refractories Limited', 'IGARASHI': 'Igarashi Motors India Limited', 'IGL': 'Indraprastha Gas Limited', 'IGPL': 'IG Petrochemicals Limited', 'IIFL': 'IIFL Finance Limited', 'IIFLSEC': 'IIFL Securities Limited', 'IIFLWAM': 'Iifl Wealth Management Limited', 'IITL': 'Industrial Investment Trust Limited', 'IL&FSENGG': 'IL&FS Engineering and Construction Company Limited', 'IL&FSTRANS': 'IL&FS Transportation Networks Limited', 'IMAGICAA': 'Imagicaaworld Entertainment Limited', 'IMFA': 'Indian Metals & Ferro Alloys Limited', 'IMPAL': 'India Motor Parts and Accessories Limited', 'IMPEXFERRO': 'Impex Ferro Tech Limited', 'INDBANK': 'Indbank Merchant Banking Services Limited', 'INDHOTEL': 'The Indian Hotels Company Limited', 'INDIACEM': 'The India Cements Limited', 'INDIAGLYCO': 'India Glycols Limited', 'INDIAMART': 'Indiamart Intermesh Limited', 'INDIANB': 'Indian Bank', 'INDIANCARD': 'Indian Card Clothing Company Limited', 'INDIANHUME': 'Indian Hume Pipe Company Limited', 'INDIGO': 'InterGlobe Aviation Limited', 'INDLMETER': 'IMP Powers Limited', 'INDNIPPON': 'India Nippon Electricals Limited', 'INDOCO': 'Indoco Remedies Limited', 'INDORAMA': 'Indo Rama Synthetics (India) Limited', 'INDOSOLAR': 'Indosolar Limited', 'INDOSTAR': 'IndoStar Capital Finance Limited', 'INDOTECH': 'Indo Tech Transformers Limited', 'INDOTHAI': 'Indo Thai Securities Limited', 'INDOWIND': 'Indowind Energy Limited', 'INDRAMEDCO': 'Indraprastha Medical Corporation Limited', 'INDSWFTLAB': 'Ind-Swift Laboratories Limited', 'INDSWFTLTD': 'Ind-Swift Limited', 'INDTERRAIN': 'Indian Terrain Fashions Limited', 'INDUSINDBK': 'IndusInd Bank Limited', 'INEOSSTYRO': 'INEOS Styrolution India Limited', 'INFIBEAM': 'Infibeam Avenues Limited', 'INFOBEAN': 'InfoBeans Technologies Limited', 'INFRATEL': 'Bharti Infratel Limited', 'INFY': 'Infosys Limited', 'INGERRAND': 'Ingersoll Rand (India) Limited', 'INOXLEISUR': 'INOX Leisure Limited', 'INOXWIND': 'Inox Wind Limited', 'INSECTICID': 'Insecticides (India) Limited', 'INSPIRISYS': 'Inspirisys Solutions Limited', 'INTEGRA': 'Integra Garments and Textiles Limited', 'INTELLECT': 'Intellect Design Arena Limited', 'INTENTECH': 'Intense Technologies Limited', 'INVENTURE': 'Inventure Growth & Securities Limited', 'IOB': 'Indian Overseas Bank', 'IOC': 'Indian Oil Corporation Limited', 'IOLCP': 'IOL Chemicals and Pharmaceuticals Limited', 'IPCALAB': 'IPCA Laboratories Limited', 'IRB': 'IRB Infrastructure Developers Limited', 'IRCON': 'Ircon International Limited', 'IRCTC': 'Indian Railway Catering And Tourism Corporation Limited', 'ISEC': 'ICICI Securities Limited', 'ISFT': 'Intrasoft Technologies Limited', 'ISMTLTD': 'ISMT Limited', 'ITC': 'ITC Limited', 'ITDC': 'India Tourism Development Corporation Limited', 'ITDCEM': 'ITD Cementation India Limited', 'ITI': 'ITI Limited', 'IVC': 'IL&FS Investment Managers Limited', 'IVP': 'IVP Limited', 'IZMO': 'IZMO Limited', 'J&KBANK': 'The Jammu & Kashmir Bank Limited', 'JAGRAN': 'Jagran Prakashan Limited', 'JAGSNPHARM': 'Jagsonpal Pharmaceuticals Limited', 'JAIBALAJI': 'Jai Balaji Industries Limited', 'JAICORPLTD': 'Jai Corp Limited', 'JAIHINDPRO': 'Jaihind Projects Limited', 'JAINSTUDIO': 'Jain Studios Limited', 'JAMNAAUTO': 'Jamna Auto Industries Limited', 'JASH': 'Jash Engineering Limited', 'JAYAGROGN': 'Jayant Agro Organics Limited', 'JAYBARMARU': 'Jay Bharat Maruti Limited', 'JAYNECOIND': 'Jayaswal Neco Industries Limited', 'JAYSREETEA': 'Jayshree Tea & Industries Limited', 'JBCHEPHARM': 'JB Chemicals & Pharmaceuticals Limited', 'JBFIND': 'JBF Industries Limited', 'JBMA': 'JBM Auto Limited', 'JCHAC': 'Johnson Controls - Hitachi Air Conditioning India Limited', 'JETAIRWAYS': 'Jet Airways (India) Limited', 'JHS': 'JHS Svendgaard Laboratories Limited', 'JINDALPHOT': 'Jindal Photo Limited', 'JINDALPOLY': 'Jindal Poly Films Limited', 'JINDALSAW': 'Jindal Saw Limited', 'JINDALSTEL': 'Jindal Steel & Power Limited', 'JINDRILL': 'Jindal Drilling And Industries Limited', 'JINDWORLD': 'Jindal Worldwide Limited', 'JISLDVREQS': 'Jain Irrigation Systems Limited', 'JISLJALEQS': 'Jain Irrigation Systems Limited', 'JITFINFRA': 'JITF Infralogistics Limited', 'JIYAECO': 'Jiya Eco-Products Limited', 'JKCEMENT': 'JK Cement Limited', 'JKIL': 'J.Kumar Infraprojects Limited', 'JKLAKSHMI': 'JK Lakshmi Cement Limited', 'JKPAPER': 'JK Paper Limited', 'JKTYRE': 'JK Tyre & Industries Limited', 'JMA': 'Jullundur Motor Agency (Delhi) Limited', 'JMCPROJECT': 'JMC Projects (India)  Limited', 'JMFINANCIL': 'JM Financial Limited', 'JMTAUTOLTD': 'JMT Auto Limited', 'JOCIL': 'Jocil Limited', 'JPASSOCIAT': 'Jaiprakash Associates Limited', 'JPINFRATEC': 'Jaypee Infratech Limited', 'JPOLYINVST': 'Jindal Poly Investment and Finance Company Limited', 'JPPOWER': 'Jaiprakash Power Ventures Limited', 'JSL': 'Jindal Stainless Limited', 'JSLHISAR': 'Jindal Stainless (Hisar) Limited', 'JSWENERGY': 'JSW Energy Limited', 'JSWHL': 'JSW Holdings Limited', 'JSWSTEEL': 'JSW Steel Limited', 'JTEKTINDIA': 'Jtekt India Limited', 'JUBILANT': 'Jubilant Life Sciences Limited', 'JUBLFOOD': 'Jubilant Foodworks Limited', 'JUBLINDS': 'Jubilant Industries Limited', 'JUMPNET': 'Jump Networks Limited', 'JUSTDIAL': 'Just Dial Limited', 'JVLAGRO': 'JVL Agro Industries Limited', 'JYOTHYLAB': 'Jyothy Labs Limited', 'KABRAEXTRU': 'Kabra Extrusion Technik Limited', 'KAJARIACER': 'Kajaria Ceramics Limited', 'KAKATCEM': 'Kakatiya Cement Sugar & Industries Limited', 'KALPATPOWR': 'Kalpataru Power Transmission Limited', 'KALYANI': 'Kalyani Commercials Limited', 'KALYANIFRG': 'Kalyani Forge Limited', 'KAMATHOTEL': 'Kamat Hotels (I) Limited', 'KAMDHENU': 'Kamdhenu Limited', 'KANANIIND': 'Kanani Industries Limited', 'KANORICHEM': 'Kanoria Chemicals & Industries Limited', 'KANSAINER': 'Kansai Nerolac Paints Limited', 'KAPSTON': 'Kapston Facilities Management Limited', 'KARDA': 'Karda Constructions Limited', 'KARMAENG': 'Karma Energy Limited', 'KARURVYSYA': 'Karur Vysya Bank Limited', 'KAUSHALYA': 'Kaushalya Infrastructure Development Corporation Limited', 'KAYA': 'Kaya Limited', 'KCP': 'KCP Limited', 'KCPSUGIND': 'KCP Sugar and Industries Corporation Limited', 'KDDL': 'KDDL Limited', 'KEC': 'KEC International Limited', 'KECL': 'Kirloskar Electric Company Limited', 'KEI': 'KEI Industries Limited', 'KELLTONTEC': 'Kellton Tech Solutions Limited', 'KENNAMET': 'Kennametal India Limited', 'KERNEX': 'Kernex Microsystems (India) Limited', 'KESORAMIND': 'Kesoram Industries Limited', 'KEYFINSERV': 'Keynote Financial Services Limited', 'KGL': 'Karuturi Global Limited', 'KHADIM': 'Khadim India Limited', 'KHANDSE': 'Khandwala Securities Limited', 'KICL': 'Kalyani Investment Company Limited', 'KILITCH': 'Kilitch Drugs (India) Limited', 'KINGFA': 'Kingfa Science & Technology (India) Limited', 'KIOCL': 'KIOCL Limited', 'KIRIINDUS': 'Kiri Industries Limited', 'KIRLFER': 'Kirloskar Ferrous Industries Ltd', 'KIRLOSBROS': 'Kirloskar Brothers Limited', 'KIRLOSENG': 'Kirloskar Oil Engines Limited', 'KIRLOSIND': 'Kirloskar Industries Limited', 'KITEX': 'Kitex Garments Limited', 'KKCL': 'Kewal Kiran Clothing Limited', 'KMSUGAR': 'K.M.Sugar Mills Limited', 'KNRCON': 'KNR Constructions Limited', 'KOHINOOR': 'Kohinoor Foods Limited', 'KOKUYOCMLN': 'Kokuyo Camlin Limited', 'KOLTEPATIL': 'Kolte - Patil Developers Limited', 'KOPRAN': 'Kopran Limited', 'KOTAKBANK': 'Kotak Mahindra Bank Limited', 'KOTARISUG': 'Kothari Sugars And Chemicals Limited', 'KOTHARIPET': 'Kothari Petrochemicals Limited', 'KOTHARIPRO': 'Kothari Products Limited', 'KPITTECH': 'KPIT Technologies Limited', 'KPRMILL': 'K.P.R. Mill Limited', 'KRBL': 'KRBL Limited', 'KREBSBIO': 'Krebs Biochemicals and Industries Limited', 'KRIDHANINF': 'Kridhan Infra Limited', 'KRISHANA': 'Krishana Phoschem Limited', 'KSB': 'Ksb Limited', 'KSCL': 'Kaveri Seed Company Limited', 'KSERASERA': 'KSS Limited', 'KSK': 'KSK Energy Ventures Limited', 'KSL': 'Kalyani Steels Limited', 'KTKBANK': 'The Karnataka Bank Limited', 'KUANTUM': 'Kuantum Papers Limited', 'KWALITY': 'kwality limited', 'L&TFH': 'L&T Finance Holdings Limited', 'LAKPRE': 'Lakshmi Precision Screws Limited', 'LAKSHVILAS': 'Lakshmi Vilas Bank Limited', 'LALPATHLAB': 'Dr. Lal Path Labs Ltd.', 'LAMBODHARA': 'Lambodhara Textiles Limited', 'LAOPALA': 'La Opala RG Limited', 'LASA': 'Lasa Supergenerics Limited', 'LAURUSLABS': 'Laurus Labs Limited', 'LAXMIMACH': 'Lakshmi Machine Works Limited', 'LEMONTREE': 'Lemon Tree Hotels Limited', 'LFIC': 'Lakshmi Finance & Industrial Corporation Limited', 'LGBBROSLTD': 'LG Balakrishnan & Bros Limited', 'LGBFORGE': 'LGB Forge Limited', 'LIBAS': 'Libas Designs Limited', 'LIBERTSHOE': 'Liberty Shoes Limited', 'LICHSGFIN': 'LIC Housing Finance Limited', 'LINCOLN': 'Lincoln Pharmaceuticals Limited', 'LINCPEN': 'Linc Pen & Plastics Limited', 'LINDEINDIA': 'Linde India Limited', 'LOKESHMACH': 'Lokesh Machines Limited', 'LOTUSEYE': 'Lotus Eye Hospital and Institute Limited', 'LOVABLE': 'Lovable Lingerie Limited', 'LPDC': 'Landmark Property Development Company Limited', 'LSIL': 'Lloyds Steels Industries Limited', 'LT': 'Larsen & Toubro Limited', 'LTI': 'Larsen & Toubro Infotech Limited', 'LTTS': 'L&T Technology Services Limited', 'LUMAXIND': 'Lumax Industries Limited', 'LUMAXTECH': 'Lumax Auto Technologies Limited', 'LUPIN': 'Lupin Limited', 'LUXIND': 'Lux Industries Limited', 'LYKALABS': 'Lyka Labs Limited', 'LYPSAGEMS': 'Lypsa Gems & Jewellery Limited', 'M&M': 'Mahindra & Mahindra Limited', 'M&MFIN': 'Mahindra & Mahindra Financial Services Limited', 'MAANALU': 'Maan Aluminium Limited', 'MACPOWER': 'Macpower CNC Machines Limited', 'MADHAV': 'Madhav Marbles and Granites Limited', 'MADHUCON': 'Madhucon Projects Limited', 'MADRASFERT': 'Madras Fertilizers Limited', 'MAGADSUGAR': 'Magadh Sugar & Energy Limited', 'MAGMA': 'Magma Fincorp Limited', 'MAGNUM': 'Magnum Ventures Limited', 'MAHABANK': 'Bank of Maharashtra', 'MAHAPEXLTD': 'Maha Rashtra Apex Corporation Limited', 'MAHASTEEL': 'Mahamaya Steel Industries Limited', 'MAHEPC': 'Mahindra EPC Irrigation Limited', 'MAHESHWARI': 'Maheshwari Logistics Limited', 'MAHINDCIE': 'Mahindra CIE Automotive Limited', 'MAHLIFE': 'Mahindra Lifespace Developers Limited', 'MAHLOG': 'Mahindra Logistics Limited', 'MAHSCOOTER': 'Maharashtra Scooters Limited', 'MAHSEAMLES': 'Maharashtra Seamless Limited', 'MAITHANALL': 'Maithan Alloys Limited', 'MAJESCO': 'Majesco Limited', 'MALUPAPER': 'Malu Paper Mills Limited', 'MANAKALUCO': 'Manaksia Aluminium Company Limited', 'MANAKCOAT': 'Manaksia Coated Metals & Industries Limited', 'MANAKSIA': 'Manaksia Limited', 'MANAKSTEEL': 'Manaksia Steels Limited', 'MANALIPETC': 'Manali Petrochemicals Limited', 'MANAPPURAM': 'Manappuram Finance Limited', 'MANGALAM': 'Mangalam Drugs And Organics Limited', 'MANGCHEFER': 'Mangalore Chemicals & Fertilizers Limited', 'MANGLMCEM': 'Mangalam Cement Limited', 'MANGTIMBER': 'Mangalam Timber Products Limited', 'MANINDS': 'Man Industries (India) Limited', 'MANINFRA': 'Man Infraconstruction Limited', 'MANUGRAPH': 'Manugraph India Limited', 'MARALOVER': 'Maral Overseas Limited', 'MARATHON': 'Marathon Nextgen Realty Limited', 'MARICO': 'Marico Limited', 'MARKSANS': 'Marksans Pharma Limited', 'MARUTI': 'Maruti Suzuki India Limited', 'MASFIN': 'MAS Financial Services Limited', 'MASKINVEST': 'Mask Investments Limited', 'MASTEK': 'Mastek Limited', 'MATRIMONY': 'Matrimony.Com Limited', 'MAWANASUG': 'Mawana Sugars Limited', 'MAXHEALTH': 'Max Healthcare Institute Limited', 'MAXIND': 'Max India Limited', 'MAXVIL': 'Max Ventures and Industries Limited', 'MAYURUNIQ': 'Mayur Uniquoters Ltd', 'MAZDA': 'Mazda Limited', 'MBAPL': 'Madhya Bharat Agro Products Limited', 'MBECL': 'Mcnally Bharat Engineering Company Limited', 'MBLINFRA': 'MBL Infrastructures Limited', 'MCDHOLDING': 'McDowell Holdings Limited', 'MCDOWELL-N': 'United Spirits Limited', 'MCL': 'Madhav Copper Limited', 'MCLEODRUSS': 'Mcleod Russel India Limited', 'MCX': 'Multi Commodity Exchange of India Limited', 'MEGASOFT': 'Megasoft Limited', 'MEGH': 'Meghmani Organics Limited', 'MELSTAR': 'Melstar Information Technologies Limited', 'MENONBE': 'Menon Bearings Limited', 'MEP': 'MEP Infrastructure Developers Limited', 'MERCATOR': 'Mercator Limited', 'METALFORGE': 'Metalyst Forgings Limited', 'METKORE': 'Metkore Alloys & Industries Limited', 'METROPOLIS': 'Metropolis Healthcare Limited', 'MFSL': 'Max Financial Services Limited', 'MGL': 'Mahanagar Gas Limited', 'MHRIL': 'Mahindra Holidays & Resorts India Limited', 'MIC': 'MIC Electronics Limited', 'MIDHANI': 'Mishra Dhatu Nigam Limited', 'MINDACORP': 'Minda Corporation Limited', 'MINDAIND': 'Minda Industries Limited', 'MINDTECK': 'Mindteck (India) Limited', 'MINDTREE': 'MindTree Limited', 'MIRCELECTR': 'MIRC Electronics Limited', 'MIRZAINT': 'Mirza International Limited', 'MITTAL': 'Mittal Life Style Limited', 'MMFL': 'MM Forgings Limited', 'MMP': 'MMP Industries Limited', 'MMTC': 'MMTC Limited', 'MODIRUBBER': 'Modi Rubber Limited', 'MOHITIND': 'Mohit Industries Limited', 'MOHOTAIND': 'Mohota Industries Limited', 'MOIL': 'MOIL Limited', 'MOLDTECH': 'Mold-Tek Technologies Limited', 'MOLDTKPAC': 'Mold-Tek Packaging Limited', 'MONTECARLO': 'Monte Carlo Fashions Limited', 'MORARJEE': 'Morarjee Textiles Limited', 'MOREPENLAB': 'Morepen Laboratories Limited', 'MOTHERSUMI': 'Motherson Sumi Systems Limited', 'MOTILALOFS': 'Motilal Oswal Financial Services Limited', 'MOTOGENFIN': 'The Motor & General Finance Limited', 'MPHASIS': 'MphasiS Limited', 'MPSLTD': 'MPS Limited', 'MRF': 'MRF Limited', 'MRO-TEK': 'MRO-TEK Realty Limited', 'MRPL': 'Mangalore Refinery and Petrochemicals Limited', 'MSPL': 'MSP Steel & Power Limited', 'MSTCLTD': 'Mstc Limited', 'MTEDUCARE': 'MT Educare Limited', 'MTNL': 'Mahanagar Telephone Nigam Limited', 'MUKANDENGG': 'Mukand Engineers Limited', 'MUKANDLTD': 'Mukand Limited', 'MUKTAARTS': 'Mukta Arts Limited', 'MUNJALAU': 'Munjal Auto Industries Limited', 'MUNJALSHOW': 'Munjal Showa Limited', 'MURUDCERA': 'Murudeshwar Ceramics Limited', 'MUTHOOTCAP': 'Muthoot Capital Services Limited', 'MUTHOOTFIN': 'Muthoot Finance Limited', 'NACLIND': 'NACL Industries Limited', 'NAGAFERT': 'Nagarjuna Fertilizers and Chemicals Limited', 'NAGREEKCAP': 'Nagreeka Capital & Infrastructure Limited', 'NAGREEKEXP': 'Nagreeka Exports Limited', 'NAHARCAP': 'Nahar Capital and Financial Services Limited', 'NAHARINDUS': 'Nahar Industrial Enterprises Limited', 'NAHARPOLY': 'Nahar Poly Films Limited', 'NAHARSPING': 'Nahar Spinning Mills Limited', 'NAM-INDIA': 'Nippon Life India Asset Management Limited', 'NATCOPHARM': 'Natco Pharma Limited', 'NATHBIOGEN': 'Nath Bio-Genes (India) Limited', 'NATIONALUM': 'National Aluminium Company Limited', 'NATNLSTEEL': 'National Steel And Agro Industries Limited', 'NAUKRI': 'Info Edge (India) Limited', 'NAVINFLUOR': 'Navin Fluorine International Limited', 'NAVKARCORP': 'Navkar Corporation Limited', 'NAVNETEDUL': 'Navneet Education Limited', 'NBCC': 'NBCC (India) Limited', 'NBIFIN': 'N. B. I. Industrial Finance Company Limited', 'NBVENTURES': 'Nava Bharat Ventures Limited', 'NCC': 'NCC Limited', 'NCLIND': 'NCL Industries Limited', 'NDGL': 'Naga Dhunseri Group Limited', 'NDL': 'Nandan Denim Limited', 'NDRAUTO': 'Ndr Auto Components Limited', 'NDTV': 'New Delhi Television Limited', 'NECCLTD': 'North Eastern Carrying Corporation Limited', 'NECLIFE': 'Nectar Lifesciences Limited', 'NELCAST': 'Nelcast Limited', 'NELCO': 'NELCO Limited', 'NEOGEN': 'Neogen Chemicals Limited', 'NESCO': 'Nesco Limited', 'NESTLEIND': 'Nestle India Limited', 'NETWORK18': 'Network18 Media & Investments Limited', 'NEULANDLAB': 'Neuland Laboratories Limited', 'NEWGEN': 'Newgen Software Technologies Limited', 'NEXTMEDIA': 'Next Mediaworks Limited', 'NFL': 'National Fertilizers Limited', 'NH': 'Narayana Hrudayalaya Ltd.', 'NHPC': 'NHPC Limited', 'NIACL': 'The New India Assurance Company Limited', 'NIBL': 'NRB Industrial Bearings Limited', 'NIITLTD': 'NIIT Limited', 'NILAINFRA': 'Nila Infrastructures Limited', 'NILASPACES': 'Nila Spaces Limited', 'NILKAMAL': 'Nilkamal Limited', 'NIPPOBATRY': 'Indo-National Limited', 'NIRAJISPAT': 'Niraj Ispat Industries Limited', 'NITCO': 'Nitco Limited', 'NITINFIRE': 'Nitin Fire Protection Industries Limited', 'NITINSPIN': 'Nitin Spinners Limited', 'NKIND': 'NK Industries Limited', 'NLCINDIA': 'NLC India Limited', 'NMDC': 'NMDC Limited', 'NOCIL': 'NOCIL Limited', 'NOIDATOLL': 'Noida Toll Bridge Company Limited', 'NORBTEAEXP': 'Norben Tea & Exports Limited', 'NRAIL': 'N R Agarwal Industries Limited', 'NRBBEARING': 'NRB Bearing Limited', 'NSIL': 'Nalwa Sons Investments Limited', 'NTL': 'Neueon Towers Limited', 'NTPC': 'NTPC Limited', 'NUCLEUS': 'Nucleus Software Exports Limited', 'NXTDIGITAL': 'NXTDIGITAL LIMITED', 'OAL': 'Oriental Aromatics Limited', 'OBEROIRLTY': 'Oberoi Realty Limited', 'OCCL': 'Oriental Carbon & Chemicals Limited', 'OFSS': 'Oracle Financial Services Software Limited', 'OIL': 'Oil India Limited', 'OILCOUNTUB': 'Oil Country Tubular Limited', 'OISL': 'OCL Iron and Steel Limited', 'OLECTRA': 'Olectra Greentech Limited', 'OMAXAUTO': 'Omax Autos Limited', 'OMAXE': 'Omaxe Limited', 'OMKARCHEM': 'Omkar Speciality Chemicals Limited', 'OMMETALS': 'OM Metals Infraprojects Limited', 'ONELIFECAP': 'Onelife Capital Advisors Limited', 'ONEPOINT': 'One Point One Solutions Limited', 'ONGC': 'Oil & Natural Gas Corporation Limited', 'ONMOBILE': 'OnMobile Global Limited', 'ONWARDTEC': 'Onward Technologies Limited', 'OPTIEMUS': 'Optiemus Infracom Limited', 'OPTOCIRCUI': 'Opto Circuits (India) Limited', 'ORBTEXP': 'Orbit Exports Limited', 'ORICONENT': 'Oricon Enterprises Limited', 'ORIENTABRA': 'Orient Abrasives Limited', 'ORIENTALTL': 'Oriental Trimex Limited', 'ORIENTBELL': 'Orient Bell Limited', 'ORIENTCEM': 'Orient Cement Limited', 'ORIENTELEC': 'Orient Electric Limited', 'ORIENTHOT': 'Oriental Hotels Limited', 'ORIENTLTD': 'Orient Press Limited', 'ORIENTPPR': 'Orient Paper & Industries Limited', 'ORIENTREF': 'Orient Refractories Limited', 'ORISSAMINE': 'The Orissa Minerals Development Company Limited', 'ORTEL': 'Ortel Communications Limited', 'ORTINLABSS': 'Ortin Laboratories Limited', 'OSWALAGRO': 'Oswal Agro Mills Limited', 'PAEL': 'PAE Limited', 'PAGEIND': 'Page Industries Limited', 'PAISALO': 'Paisalo Digital Limited', 'PALASHSECU': 'Palash Securities Limited', 'PALREDTEC': 'Palred Technologies Limited', 'PANACEABIO': 'Panacea Biotec Limited', 'PANACHE': 'Panache Digilife Limited', 'PANAMAPET': 'Panama Petrochem Limited', 'PAPERPROD': 'Huhtamaki PPL Limited', 'PARABDRUGS': 'Parabolic Drugs Limited', 'PARACABLES': 'Paramount Communications Limited', 'PARAGMILK': 'Parag Milk Foods Limited', 'PARSVNATH': 'Parsvnath Developers Limited', 'PATELENG': 'Patel Engineering Limited', 'PATINTLOG': 'Patel Integrated Logistics Limited', 'PATSPINLTD': 'Patspin India Limited', 'PCJEWELLER': 'PC Jeweller Limited', 'PDMJEPAPER': 'Pudumjee Paper Products Limited', 'PDSMFL': 'PDS Multinational Fashions Limited', 'PEARLPOLY': 'Pearl Polymers Limited', 'PEL': 'Piramal Enterprises Limited', 'PENIND': 'Pennar Industries Limited', 'PENINLAND': 'Peninsula Land Limited', 'PERSISTENT': 'Persistent Systems Limited', 'PETRONET': 'Petronet LNG Limited', 'PFC': 'Power Finance Corporation Limited', 'PFIZER': 'Pfizer Limited', 'PFOCUS': 'Prime Focus Limited', 'PFS': 'PTC India Financial Services Limited', 'PGEL': 'PG Electroplast Limited', 'PGHH': 'Procter & Gamble Hygiene and Health Care Limited', 'PGHL': 'Procter & Gamble Health Limited', 'PGIL': 'Pearl Global Industries Limited', 'PHILIPCARB': 'Phillips Carbon Black Limited', 'PHOENIXLTD': 'The Phoenix Mills Limited', 'PIDILITIND': 'Pidilite Industries Limited', 'PIIND': 'PI Industries Limited', 'PILANIINVS': 'Pilani Investment and Industries Corporation Limited', 'PILITA': 'PIL ITALICA LIFESTYLE LIMITED', 'PIONDIST': 'Pioneer Distilleries Limited', 'PIONEEREMB': 'Pioneer Embroideries Limited', 'PITTIENG': 'Pitti Engineering Limited', 'PKTEA': 'The Peria Karamalai Tea & Produce Company Limited', 'PLASTIBLEN': 'Plastiblends India Limited', 'PNB': 'Punjab National Bank', 'PNBGILTS': 'PNB Gilts Limited', 'PNBHOUSING': 'PNB Housing Finance Limited', 'PNC': 'Pritish Nandy Communications Limited', 'PNCINFRA': 'PNC Infratech Limited', 'PODDARHOUS': 'Poddar Housing and Development Limited', 'PODDARMENT': 'Poddar Pigments Limited', 'POKARNA': 'Pokarna Limited', 'POLYCAB': 'Polycab India Limited', 'POLYMED': 'Poly Medicure Limited', 'POLYPLEX': 'Polyplex Corporation Limited', 'PONNIERODE': 'Ponni Sugars (Erode) Limited', 'POWERGRID': 'Power Grid Corporation of India Limited', 'POWERINDIA': 'ABB Power Products and Systems India Limited', 'POWERMECH': 'Power Mech Projects Limited', 'PPAP': 'PPAP Automotive Limited', 'PPL': 'Prakash Pipes Limited', 'PRABHAT': 'Prabhat Dairy Limited', 'PRADIP': 'Pradip Overseas Limited', 'PRAENG': 'Prajay Engineers Syndicate Limited', 'PRAJIND': 'Praj Industries Limited', 'PRAKASH': 'Prakash Industries Limited', 'PRAKASHSTL': 'Prakash Steelage Limited', 'PRAXIS': 'Praxis Home Retail Limited', 'PRECAM': 'Precision Camshafts Limited', 'PRECOT': 'Precot Meridian Limited', 'PRECWIRE': 'Precision Wires India Limited', 'PREMEXPLN': 'Premier Explosives Limited', 'PREMIER': 'Premier Limited', 'PREMIERPOL': 'Premier Polyfilm Limited', 'PRESSMN': 'Pressman Advertising Limited', 'PRESTIGE': 'Prestige Estates Projects Limited', 'PRICOLLTD': 'Pricol Limited', 'PRIMESECU': 'Prime Securities Limited', 'PRINCEPIPE': 'Prince Pipes And Fittings Limited', 'PROZONINTU': 'Prozone Intu Properties Limited', 'PRSMJOHNSN': 'Prism Johnson Limited', 'PSB': 'Punjab & Sind Bank', 'PSL': 'PSL Limited', 'PSPPROJECT': 'PSP Projects Limited', 'PTC': 'PTC India Limited', 'PTL': 'PTL Enterprises Limited', 'PUNJABCHEM': 'Punjab Chemicals & Crop Protection Limited', 'PUNJLLOYD': 'Punj Lloyd Limited', 'PURVA': 'Puravankara Limited', 'PVR': 'PVR Limited', 'QUESS': 'Quess Corp Limited', 'QUICKHEAL': 'Quick Heal Technologies Limited', 'RADAAN': 'Radaan Mediaworks India Limited', 'RADICO': 'Radico Khaitan Limited', 'RADIOCITY': 'Music Broadcast Limited', 'RAIN': 'Rain Industries Limited', 'RAJESHEXPO': 'Rajesh Exports Limited', 'RAJRATAN': 'Rajratan Global Wire Limited', 'RAJSREESUG': 'Rajshree Sugars & Chemicals Limited', 'RAJTV': 'Raj Television Network Limited', 'RALLIS': 'Rallis India Limited', 'RAMANEWS': 'Shree Rama Newsprint Limited', 'RAMASTEEL': 'Rama Steel Tubes Limited', 'RAMCOCEM': 'The Ramco Cements Limited', 'RAMCOIND': 'Ramco Industries Limited', 'RAMCOSYS': 'Ramco Systems Limited', 'RAMKY': 'Ramky Infrastructure Limited', 'RAMSARUP': 'Ramsarup Industries Limited', 'RANASUG': 'Rana Sugars Limited', 'RANEENGINE': 'Rane Engine Valve Limited', 'RANEHOLDIN': 'Rane Holdings Limited', 'RATNAMANI': 'Ratnamani Metals & Tubes Limited', 'RAYMOND': 'Raymond Limited', 'RBL': 'Rane Brake Lining Limited', 'RBLBANK': 'RBL Bank Limited', 'RCF': 'Rashtriya Chemicals and Fertilizers Limited', 'RCOM': 'Reliance Communications Limited', 'RECLTD': 'REC Limited', 'REDINGTON': 'Redington (India) Limited', 'REFEX': 'Refex Industries Limited', 'RELAXO': 'Relaxo Footwears Limited', 'RELCAPITAL': 'Reliance Capital Limited', 'RELIANCE': 'Reliance Industries Limited', 'RELIGARE': 'Religare Enterprises Limited', 'RELINFRA': 'Reliance Infrastructure Limited', 'REMSONSIND': 'Remsons Industries Limited', 'RENUKA': 'Shree Renuka Sugars Limited', 'REPCOHOME': 'Repco Home Finance Limited', 'REPRO': 'Repro India Limited', 'RESPONIND': 'Responsive Industries Limited', 'REVATHI': 'Revathi Equipment Limited', 'RGL': 'Renaissance Global Limited', 'RHFL': 'Reliance Home Finance Limited', 'RICOAUTO': 'Rico Auto Industries Limited', 'RIIL': 'Reliance Industrial Infrastructure Limited', 'RITES': 'RITES Limited', 'RKDL': 'Ravi Kumar Distilleries Limited', 'RKFORGE': 'Ramkrishna Forgings Limited', 'RMCL': 'Radha Madhav Corporation Limited', 'RML': 'Rane (Madras) Limited', 'RNAVAL': 'Reliance Naval and Engineering Limited', 'ROHITFERRO': 'Rohit Ferro-Tech Limited', 'ROHLTD': 'Royal Orchid Hotels Limited', 'ROLLT': 'Rollatainers Limited', 'ROLTA': 'Rolta India Limited', 'ROSSARI': 'Rossari Biotech Limited', 'ROSSELLIND': 'Rossell India Limited', 'RPGLIFE': 'RPG Life Sciences Limited', 'RPOWER': 'Reliance Power Limited', 'RPPINFRA': 'R.P.P. Infra Projects Limited', 'RSSOFTWARE': 'R. S. Software (India) Limited', 'RSWM': 'RSWM Limited', 'RSYSTEMS': 'R Systems International Limited', 'RTNINFRA': 'RattanIndia Infrastructure Limited', 'RTNPOWER': 'RattanIndia Power Limited', 'RUBYMILLS': 'The Ruby Mills Limited', 'RUCHI': 'Ruchi Soya Industries Limited', 'RUCHINFRA': 'Ruchi Infrastructure Limited', 'RUCHIRA': 'Ruchira Papers Limited', 'RUPA': 'Rupa & Company Limited', 'RUSHIL': 'Rushil Decor Limited', 'RVNL': 'Rail Vikas Nigam Limited', 'S&SPOWER': 'S&S Power Switchgears Limited', 'SABEVENTS': 'Sab Events & Governance Now Media Limited', 'SABTN': 'Sri Adhikari Brothers Television Network Limited', 'SADBHAV': 'Sadbhav Engineering Limited', 'SADBHIN': 'Sadbhav Infrastructure Project Limited', 'SAFARI': 'Safari Industries (India) Limited', 'SAGARDEEP': 'Sagardeep Alloys Limited', 'SAGCEM': 'Sagar Cements Limited', 'SAIL': 'Steel Authority of India Limited', 'SAKAR': 'Sakar Healthcare Limited', 'SAKHTISUG': 'Sakthi Sugars Limited', 'SAKSOFT': 'Saksoft Limited', 'SAKUMA': 'Sakuma Exports Limited', 'SALASAR': 'Salasar Techno Engineering Limited', 'SALONA': 'Salona Cotspin Limited', 'SALSTEEL': 'S.A.L. Steel Limited', 'SALZERELEC': 'Salzer Electronics Limited', 'SAMBHAAV': 'Sambhaav Media Limited', 'SANCO': 'Sanco Industries Limited', 'SANDESH': 'The Sandesh Limited', 'SANDHAR': 'Sandhar Technologies Limited', 'SANGAMIND': 'Sangam (India) Limited', 'SANGHIIND': 'Sanghi Industries Limited', 'SANGHVIFOR': 'Sanghvi Forging and Engineering Limited', 'SANGHVIMOV': 'Sanghvi Movers Limited', 'SANGINITA': 'Sanginita Chemicals Limited', 'SANOFI': 'Sanofi India Limited', 'SANWARIA': 'Sanwaria Consumer Limited', 'SARDAEN': 'Sarda Energy & Minerals Limited', 'SAREGAMA': 'Saregama India Limited', 'SARLAPOLY': 'Sarla Performance Fibers Limited', 'SASKEN': 'Sasken Technologies Limited', 'SASTASUNDR': 'Sastasundar Ventures Limited', 'SATIA': 'Satia Industries Limited', 'SATIN': 'Satin Creditcare Network Limited', 'SBICARD': 'SBI Cards and Payment Services Limited', 'SBILIFE': 'SBI Life Insurance Company Limited', 'SBIN': 'State Bank of India', 'SCAPDVR': 'Stampede Capital Limited', 'SCHAEFFLER': 'Schaeffler India Limited', 'SCHAND': 'S Chand And Company Limited', 'SCHNEIDER': 'Schneider Electric Infrastructure Limited', 'SCI': 'Shipping Corporation Of India Limited', 'SDBL': 'Som Distilleries & Breweries Limited', 'SEAMECLTD': 'Seamec Limited', 'SELAN': 'Selan Exploration Technology Limited', 'SELMCL': 'SEL Manufacturing Company Limited', 'SEPOWER': 'S.E. Power Limited', 'SEQUENT': 'Sequent Scientific Limited', 'SESHAPAPER': 'Seshasayee Paper and Boards Limited', 'SETCO': 'Setco Automotive Limited', 'SETUINFRA': 'Setubandhan Infrastructure Limited', 'SEYAIND': 'Seya Industries Limited', 'SEZAL': 'Sezal Glass Limited', 'SFL': 'Sheela Foam Limited', 'SGL': 'STL Global Limited', 'SHAHALLOYS': 'Shah Alloys Limited', 'SHAKTIPUMP': 'Shakti Pumps (India) Limited', 'SHALBY': 'Shalby Limited', 'SHALPAINTS': 'Shalimar Paints Limited', 'SHANKARA': 'Shankara Building Products Limited', 'SHANTIGEAR': 'Shanthi Gears Limited', 'SHARDACROP': 'Sharda Cropchem Limited', 'SHARDAMOTR': 'Sharda Motor Industries Limited', 'SHEMAROO': 'Shemaroo Entertainment Limited', 'SHIL': 'Somany Home Innovation Limited', 'SHILPAMED': 'Shilpa Medicare Limited', 'SHIRPUR-G': 'Shirpur Gold Refinery Limited', 'SHIVAMAUTO': 'Shivam Autotech Limited', 'SHIVAMILLS': 'Shiva Mills Limited', 'SHIVATEX': 'Shiva Texyarn Limited', 'SHK': 'S H Kelkar and Company Limited', 'SHOPERSTOP': 'Shoppers Stop Limited', 'SHREDIGCEM': 'Shree Digvijay Cement Co.Ltd', 'SHREECEM': 'SHREE CEMENT LIMITED', 'SHREEPUSHK': 'Shree Pushkar Chemicals & Fertilisers Limited', 'SHREERAMA': 'Shree Rama Multi-Tech Limited', 'SHRENIK': 'Shrenik Limited', 'SHREYANIND': 'Shreyans Industries Limited', 'SHREYAS': 'Shreyas Shipping & Logistics Limited', 'SHRIPISTON': 'Shriram Pistons & Rings Limited', 'SHRIRAMCIT': 'Shriram City Union Finance Limited', 'SHRIRAMEPC': 'Shriram EPC Limited', 'SHYAMCENT': 'Shyam Century Ferrous Limited', 'SHYAMTEL': 'Shyam Telecom Limited', 'SICAGEN': 'Sicagen India Limited', 'SICAL': 'Sical Logistics Limited', 'SIEMENS': 'Siemens Limited', 'SIGIND': 'Signet Industries Limited', 'SIL': 'Standard Industries Limited', 'SILINV': 'SIL Investments Limited', 'SILLYMONKS': 'Silly Monks Entertainment Limited', 'SIMBHALS': 'Simbhaoli Sugars Limited', 'SIMPLEXINF': 'Simplex Infrastructures Limited', 'SINTEX': 'Sintex Industries Limited', 'SIRCA': 'Sirca Paints India Limited', 'SIS': 'Security and Intelligence Services (India) Limited', 'SITINET': 'Siti Networks Limited', 'SIYSIL': 'Siyaram Silk Mills Limited', 'SJVN': 'SJVN Limited', 'SKFINDIA': 'SKF India Limited', 'SKIL': 'SKIL Infrastructure Limited', 'SKIPPER': 'Skipper Limited', 'SKMEGGPROD': 'SKM Egg Products Export (India) Limited', 'SMARTLINK': 'Smartlink Holdings Limited', 'SMLISUZU': 'SML Isuzu Limited', 'SMPL': 'Splendid Metal Products Limited', 'SMSLIFE': 'SMS Lifesciences India Limited', 'SMSPHARMA': 'SMS Pharmaceuticals Limited', 'SNOWMAN': 'Snowman Logistics Limited', 'SOBHA': 'Sobha Limited', 'SOLARA': 'Solara Active Pharma Sciences Limited', 'SOLARINDS': 'Solar Industries India Limited', 'SOMANYCERA': 'Somany Ceramics Limited', 'SOMATEX': 'Soma Textiles & Industries Limited', 'SOMICONVEY': 'Somi Conveyor Beltings Limited', 'SONATSOFTW': 'Sonata Software Limited', 'SORILINFRA': 'SORIL Infra Resources Limited', 'SOTL': 'Savita Oil Technologies Limited', 'SOUTHBANK': 'The South Indian Bank Limited', 'SOUTHWEST': 'South West Pinnacle Exploration Limited', 'SPAL': 'S. P. Apparels Limited', 'SPANDANA': 'Spandana Sphoorty Financial Limited', 'SPARC': 'Sun Pharma Advanced Research Company Limited', 'SPCENET': 'Spacenet Enterprises India Limited', 'SPECIALITY': 'Speciality Restaurants Limited', 'SPENCERS': \"Spencer's Retail Limited\", 'SPENTEX': 'Spentex Industries Limited', 'SPIC': 'Southern Petrochemicals Industries Corporation  Limited', 'SPICEJET': 'SPICEJET LTD', 'SPLIL': 'SPL Industries Limited', 'SPMLINFRA': 'SPML Infra Limited', 'SPTL': 'Sintex Plastics Technology Limited', 'SPYL': 'Shekhawati Poly-Yarn Limited', 'SREEL': 'Sreeleathers Limited', 'SREINFRA': 'SREI Infrastructure Finance Limited', 'SRF': 'SRF Limited', 'SRHHYPOLTD': 'Sree Rayalaseema Hi-Strength Hypo Limited', 'SRIPIPES': 'Srikalahasthi Pipes Limited', 'SRTRANSFIN': 'Shriram Transport Finance Company Limited', 'SSWL': 'Steel Strips Wheels Limited', 'STAR': 'Strides Pharma Science Limited', 'STARCEMENT': 'Star Cement Limited', 'STARPAPER': 'Star Paper Mills Limited', 'STCINDIA': 'The State Trading Corporation of India Limited', 'STEELCITY': 'Steel City Securities Limited', 'STEELXIND': 'STEEL EXCHANGE INDIA LIMITED', 'STEL': 'Stel Holdings Limited', 'STERTOOLS': 'Sterling Tools Limited', 'STINDIA': 'STI India Limited', 'STRTECH': 'Sterlite Technologies Limited', 'SUBCAPCITY': 'International Constructions Limited', 'SUBEX': 'Subex Limited', 'SUBROS': 'Subros Limited', 'SUDARSCHEM': 'Sudarshan Chemical Industries Limited', 'SUJANAUNI': 'Sujana Universal Industries Limited', 'SUMEETINDS': 'Sumeet Industries Limited', 'SUMICHEM': 'Sumitomo Chemical India Limited', 'SUMIT': 'Sumit Woods Limited', 'SUMMITSEC': 'Summit Securities Limited', 'SUNCLAYLTD': 'Sundaram Clayton Limited', 'SUNDARAM': 'Sundaram Multi Pap Limited', 'SUNDARMFIN': 'Sundaram Finance Limited', 'SUNDARMHLD': 'Sundaram Finance Holdings Limited', 'SUNDRMBRAK': 'Sundaram Brake Linings Limited', 'SUNDRMFAST': 'Sundram Fasteners Limited', 'SUNFLAG': 'Sunflag Iron And Steel Company Limited', 'SUNPHARMA': 'Sun Pharmaceutical Industries Limited', 'SUNTECK': 'Sunteck Realty Limited', 'SUNTV': 'Sun TV Network Limited', 'SUPERHOUSE': 'Superhouse Limited', 'SUPERSPIN': 'Super Spinning Mills Limited', 'SUPPETRO': 'Supreme Petrochem Limited', 'SUPRAJIT': 'Suprajit Engineering Limited', 'SUPREMEIND': 'Supreme Industries Limited', 'SUPREMEINF': 'Supreme Infrastructure India Limited', 'SURANASOL': 'Surana Solar Limited', 'SURANAT&P': 'Surana Telecom and Power Limited', 'SURYALAXMI': 'Suryalakshmi Cotton Mills Limited', 'SURYAROSNI': 'Surya Roshni Limited', 'SUTLEJTEX': 'Sutlej Textiles and Industries Limited', 'SUVEN': 'Suven Life Sciences Limited', 'SUVENPHAR': 'Suven Pharmaceuticals Limited', 'SUZLON': 'Suzlon Energy Limited', 'SWANENERGY': 'Swan Energy Limited', 'SWARAJENG': 'Swaraj Engines Limited', 'SWELECTES': 'Swelect Energy Systems Limited', 'SWSOLAR': 'Sterling And Wilson Solar Limited', 'SYMPHONY': 'Symphony Limited', 'SYNCOM': 'Syncom Healthcare Limited', 'SYNGENE': 'Syngene International Limited', 'TAINWALCHM': 'Tainwala Chemical and Plastic (I) Limited', 'TAJGVK': 'Taj GVK Hotels & Resorts Limited', 'TAKE': 'Take Solutions Limited', 'TALBROAUTO': 'Talbros Automotive Components Limited', 'TALWALKARS': 'Talwalkars Better Value Fitness Limited', 'TALWGYM': 'Talwalkars Healthclubs Limited', 'TANLA': 'Tanla Solutions Limited', 'TANTIACONS': 'Tantia Constructions Limited', 'TARMAT': 'Tarmat Limited', 'TASTYBITE': 'Tasty Bite Eatables Limited', 'TATACHEM': 'Tata Chemicals Limited', 'TATACOFFEE': 'Tata Coffee Limited', 'TATACOMM': 'Tata Communications Limited', 'TATACONSUM': 'TATA CONSUMER PRODUCTS LIMITED', 'TATAELXSI': 'Tata Elxsi Limited', 'TATAINVEST': 'Tata Investment Corporation Limited', 'TATAMETALI': 'Tata Metaliks Limited', 'TATAMOTORS': 'Tata Motors Limited', 'TATAMTRDVR': 'Tata Motors Limited', 'TATAPOWER': 'Tata Power Company Limited', 'TATASTEEL': 'Tata Steel Limited', 'TATASTLBSL': 'Tata Steel Bsl Limited', 'TATASTLLP': 'Tata Steel Long Products Limited', 'TBZ': 'Tribhovandas Bhimji Zaveri Limited', 'TCI': 'Transport Corporation of India Limited', 'TCIDEVELOP': 'TCI Developers Limited', 'TCIEXP': 'TCI Express Limited', 'TCIFINANCE': 'TCI Finance Limited', 'TCNSBRANDS': 'TCNS Clothing Co. Limited', 'TCPLPACK': 'TCPL Packaging Limited', 'TCS': 'Tata Consultancy Services Limited', 'TDPOWERSYS': 'TD Power Systems Limited', 'TEAMLEASE': 'Teamlease Services Limited', 'TECHIN': 'Techindia Nirman Limited', 'TECHM': 'Tech Mahindra Limited', 'TECHNOE': 'Techno Electric & Engineering Company Limited', 'TECHNOFAB': 'Technofab Engineering Limited', 'TEJASNET': 'Tejas Networks Limited', 'TERASOFT': 'Tera Software Limited', 'TEXINFRA': 'Texmaco Infrastructure & Holdings Limited', 'TEXMOPIPES': 'Texmo Pipes and Products Limited', 'TEXRAIL': 'Texmaco Rail & Engineering Limited', 'TFCILTD': 'Tourism Finance Corporation of India Limited', 'TFL': 'Transwarranty Finance Limited', 'TGBHOTELS': 'TGB Banquets And Hotels Limited', 'THANGAMAYL': 'Thangamayil Jewellery Limited', 'THEINVEST': 'The Investment Trust Of India Limited', 'THEMISMED': 'Themis Medicare Limited', 'THERMAX': 'Thermax Limited', 'THIRUSUGAR': 'Thiru Arooran Sugars Limited', 'THOMASCOOK': 'Thomas Cook  (India)  Limited', 'THOMASCOTT': 'Thomas Scott (India) Limited', 'THYROCARE': 'Thyrocare Technologies Limited', 'TI': 'Tilaknagar Industries Limited', 'TIDEWATER': 'Tide Water Oil Company (India) Limited', 'TIIL': 'Technocraft Industries (India) Limited', 'TIINDIA': 'Tube Investments of India Limited', 'TIJARIA': 'Tijaria Polypipes Limited', 'TIL': 'TIL Limited', 'TIMESGTY': 'Times Guaranty Limited', 'TIMETECHNO': 'Time Technoplast Limited', 'TIMKEN': 'Timken India Limited', 'TINPLATE': 'The Tinplate Company of India Limited', 'TIPSINDLTD': 'TIPS Industries Limited', 'TIRUMALCHM': 'Thirumalai Chemicals Limited', 'TIRUPATIFL': 'Tirupati Forge Limited', 'TITAN': 'Titan Company Limited', 'TMRVL': 'The Mandhana Retail Ventures Limited', 'TNPETRO': 'Tamilnadu PetroProducts Limited', 'TNPL': 'Tamil Nadu Newsprint & Papers Limited', 'TNTELE': 'Tamilnadu Telecommunication Limited', 'TOKYOPLAST': 'Tokyo Plast International Limited', 'TORNTPHARM': 'Torrent Pharmaceuticals Limited', 'TORNTPOWER': 'Torrent Power Limited', 'TOTAL': 'Total Transport Systems Limited', 'TOUCHWOOD': 'Touchwood Entertainment Limited', 'TPLPLASTEH': 'TPL Plastech Limited', 'TREEHOUSE': 'Tree House Education & Accessories Limited', 'TREJHARA': 'TREJHARA SOLUTIONS LIMITED', 'TRENT': 'Trent Limited', 'TRF': 'TRF Limited', 'TRIDENT': 'Trident Limited', 'TRIGYN': 'Trigyn Technologies Limited', 'TRIL': 'Transformers And Rectifiers (India) Limited', 'TRITURBINE': 'Triveni Turbine Limited', 'TRIVENI': 'Triveni Engineering & Industries Limited', 'TTKHLTCARE': 'TTK Healthcare Limited', 'TTKPRESTIG': 'TTK Prestige Limited', 'TTL': 'T T Limited', 'TTML': 'Tata Teleservices (Maharashtra) Limited', 'TV18BRDCST': 'TV18 Broadcast Limited', 'TVSELECT': 'TVS Electronics Limited', 'TVSMOTOR': 'TVS Motor Company Limited', 'TVSSRICHAK': 'TVS Srichakra Limited', 'TVTODAY': 'TV Today Network Limited', 'TVVISION': 'TV Vision Limited', 'TWL': 'Titagarh Wagons Limited', 'UBL': 'United Breweries Limited', 'UCALFUEL': 'Ucal Fuel Systems Limited', 'UCOBANK': 'UCO Bank', 'UFLEX': 'UFLEX Limited', 'UFO': 'UFO Moviez India Limited', 'UGARSUGAR': 'The Ugar Sugar Works Limited', 'UJAAS': 'Ujaas Energy Limited', 'UJJIVAN': 'Ujjivan Financial Services Limited', 'UJJIVANSFB': 'Ujjivan Small Finance Bank Limited', 'ULTRACEMCO': 'UltraTech Cement Limited', 'UMANGDAIRY': 'Umang Dairies Limited', 'UMESLTD': 'Usha Martin Education & Solutions Limited', 'UNICHEMLAB': 'Unichem Laboratories Limited', 'UNIENTER': 'Uniphos Enterprises Limited', 'UNIONBANK': 'Union Bank of India', 'UNIPLY': 'Uniply Industries Limited', 'UNITECH': 'Unitech Limited', 'UNITEDTEA': 'The United Nilgiri Tea Estates Company Limited', 'UNITY': 'Unity Infraprojects Limited', 'UNIVASTU': 'Univastu India Limited', 'UNIVCABLES': 'Universal Cables Limited', 'UNIVPHOTO': 'Universus Photo Imagings Limited', 'UPL': 'UPL Limited', 'URJA': 'Urja Global Limited', 'USHAMART': 'Usha Martin Limited', 'UTTAMSTL': 'Uttam Galva Steels Limited', 'UTTAMSUGAR': 'Uttam Sugar Mills Limited', 'UVSL': 'Uttam Value Steels Limited', 'V2RETAIL': 'V2 Retail Limited', 'VADILALIND': 'Vadilal Industries Limited', 'VAIBHAVGBL': 'Vaibhav Global Limited', 'VAISHALI': 'Vaishali Pharma Limited', 'VAKRANGEE': 'Vakrangee Limited', 'VARDHACRLC': 'Vardhman Acrylics Limited', 'VARDMNPOLY': 'Vardhman Polytex Limited', 'VARROC': 'Varroc Engineering Limited', 'VASCONEQ': 'Vascon Engineers Limited', 'VASWANI': 'Vaswani Industries Limited', 'VBL': 'Varun Beverages Limited', 'VEDL': 'Vedanta Limited', 'VENKEYS': \"Venky's (India) Limited\", 'VENUSREM': 'Venus Remedies Limited', 'VERTOZ': 'Vertoz Advertising Limited', 'VESUVIUS': 'Vesuvius India Limited', 'VETO': 'Veto Switchgears And Cables Limited', 'VGUARD': 'V-Guard Industries Limited', 'VHL': 'Vardhman Holdings Limited', 'VICEROY': 'Viceroy Hotels Limited', 'VIDEOIND': 'Videocon Industries Limited', 'VIDHIING': 'Vidhi Specialty Food Ingredients Limited', 'VIJIFIN': 'Viji Finance Limited', 'VIKASECO': 'Vikas EcoTech Limited', 'VIKASMCORP': 'Vikas Multicorp Limited', 'VIKASPROP': 'Vikas Proppant & Granite Limited', 'VIKASWSP': 'Vikas WSP Limited', 'VIMTALABS': 'Vimta Labs Limited', 'VINATIORGA': 'Vinati Organics Limited', 'VINDHYATEL': 'Vindhya Telelinks Limited', 'VINYLINDIA': 'Vinyl Chemicals (India) Limited', 'VIPCLOTHNG': 'VIP Clothing Limited', 'VIPIND': 'VIP Industries Limited', 'VIPULLTD': 'Vipul Limited', 'VISAKAIND': 'Visaka Industries Limited', 'VISASTEEL': 'Visa Steel Limited', 'VISHAL': 'Vishal Fabrics Limited', 'VISHNU': 'Vishnu Chemicals Limited', 'VISHWARAJ': 'Vishwaraj Sugar Industries Limited', 'VIVIDHA': 'Visagar Polytex Limited', 'VIVIMEDLAB': 'Vivimed Labs Limited', 'VLSFINANCE': 'VLS Finance Limited', 'VMART': 'V-Mart Retail Limited', 'VOLTAMP': 'Voltamp Transformers Limited', 'VOLTAS': 'Voltas Limited', 'VRLLOG': 'VRL Logistics Limited', 'VSSL': 'Vardhman Special Steels Limited', 'VSTIND': 'VST Industries Limited', 'VSTTILLERS': 'V.S.T Tillers Tractors Limited', 'VTL': 'Vardhman Textiles Limited', 'WABAG': 'VA Tech Wabag Limited', 'WABCOINDIA': 'WABCO India Limited', 'WALCHANNAG': 'Walchandnagar Industries Limited', 'WANBURY': 'Wanbury Limited', 'WATERBASE': 'Waterbase Limited', 'WEBELSOLAR': 'Websol Energy System Limited', 'WEIZMANIND': 'Weizmann Limited', 'WELCORP': 'Welspun Corp Limited', 'WELENT': 'Welspun Enterprises Limited', 'WELINV': 'Welspun Investments and Commercials Limited', 'WELSPUNIND': 'Welspun India Limited', 'WENDT': 'Wendt (India) Limited', 'WESTLIFE': 'Westlife Development Ltd', 'WHEELS': 'Wheels India Limited', 'WHIRLPOOL': 'Whirlpool of India Limited', 'WILLAMAGOR': 'Williamson Magor & Company Limited', 'WINDMACHIN': 'Windsor Machines Limited', 'WIPL': 'The Western India Plywoods Limited', 'WIPRO': 'Wipro Limited', 'WOCKPHARMA': 'Wockhardt Limited', 'WONDERLA': 'Wonderla Holidays Limited', 'WORTH': 'Worth Peripherals Limited', 'WSI': 'W S Industries (I) Limited', 'WSTCSTPAPR': 'West Coast Paper Mills Limited', 'XCHANGING': 'Xchanging Solutions Limited', 'XELPMOC': 'Xelpmoc Design And Tech Limited', 'XPROINDIA': 'Xpro India Limited', 'YESBANK': 'Yes Bank Limited', 'ZEEL': 'Zee Entertainment Enterprises Limited', 'ZEELEARN': 'Zee Learn Limited', 'ZEEMEDIA': 'Zee Media Corporation Limited', 'ZENITHEXPO': 'Zenith Exports Limited', 'ZENSARTECH': 'Zensar Technologies Limited', 'ZENTEC': 'Zen Technologies Limited', 'ZICOM': 'Zicom Electronic Security Systems Limited', 'ZODIACLOTH': 'Zodiac Clothing Company Limited', 'ZODJRDMKJ': 'Zodiac JRD- MKJ Limited', 'ZOTA': 'Zota Health Care LImited', 'ZUARI': 'Zuari Agro Chemicals Limited', 'ZUARIGLOB': 'Zuari Global Limited', 'ZYDUSWELL': 'Zydus Wellness Limited'}\n"
     ]
    }
   ],
   "source": [
    "print (table1)"
   ]
  },
  {
   "cell_type": "code",
   "execution_count": 41,
   "metadata": {},
   "outputs": [],
   "source": [
    "import tkinter as tk\n",
    "from tkinter import filedialog\n",
    "from pandas import DataFrame\n",
    "\n",
    "table1 = nse.get_fno_lot_sizes()\n",
    "\n",
    "df = DataFrame(table1, columns= ['SYMBOL','NAME OF COMPANY'],index=[0])\n",
    "root= tk.Tk()\n",
    "canvas1 = tk.Canvas(root, width = 300, height = 300, bg = 'lightsteelblue2', relief = 'raised')\n",
    "canvas1.pack()\n",
    "\n",
    "def exportCSV ():\n",
    "    global df\n",
    "    \n",
    "    export_file_path = filedialog.asksaveasfilename(defaultextension='.csv')\n",
    "    df.to_csv (export_file_path, index = False, header=True)\n",
    "\n",
    "saveAsButton_CSV = tk.Button(text='Export CSV', command=exportCSV, bg='green', fg='white', font=('helvetica', 12, 'bold'))\n",
    "canvas1.create_window(150, 150, window=saveAsButton_CSV)\n",
    "\n",
    "root.mainloop()"
   ]
  },
  {
   "cell_type": "code",
   "execution_count": null,
   "metadata": {},
   "outputs": [],
   "source": []
  }
 ],
 "metadata": {
  "kernelspec": {
   "display_name": "Python 3",
   "language": "python",
   "name": "python3"
  },
  "language_info": {
   "codemirror_mode": {
    "name": "ipython",
    "version": 3
   },
   "file_extension": ".py",
   "mimetype": "text/x-python",
   "name": "python",
   "nbconvert_exporter": "python",
   "pygments_lexer": "ipython3",
   "version": "3.7.6"
  }
 },
 "nbformat": 4,
 "nbformat_minor": 4
}
